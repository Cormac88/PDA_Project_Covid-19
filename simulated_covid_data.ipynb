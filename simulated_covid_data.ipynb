{
 "cells": [
  {
   "cell_type": "markdown",
   "id": "d056c803-fde0-40b4-b284-1616df9be855",
   "metadata": {},
   "source": [
    "# Covid-19 Statistics Using Simulated Data\n",
    "\n",
    "***"
   ]
  },
  {
   "cell_type": "markdown",
   "id": "dc5ed9ea-b2c9-422d-a191-0e46b5a7cc49",
   "metadata": {},
   "source": [
    "<br>\n",
    "\n",
    "## Objectives of this Project\n",
    "\n",
    "***\n",
    "\n",
    "The objective of this project is to synthesise and simulate some data about Covid-19 cases using the NumPy Random package and basing this off real data from sources such as the Central Statistics Office (CSO) and the HSE. The sample size will be 100 and the variables that I will analyse will be:\n",
    "\n",
    "- Age\n",
    "- Gender\n",
    "- Underlying Conditions\n",
    "- Vaccination Status\n",
    "- Hospitalisation\n",
    "- Admission to ICU\n",
    "- Death/Recovery"
   ]
  },
  {
   "cell_type": "markdown",
   "id": "a9ab29ae-0955-4d10-a6b4-adc5eb2c1090",
   "metadata": {},
   "source": [
    "To breakdown this project and to start it, I am going to focus on the Age variable first. I will get some statistics from the web and get the age data simulated and put this into a Pandas DataFrame using NumPy.<br>\n",
    "From the CDO website, COVID-19 Deaths and Cases, Series 36: [04]"
   ]
  },
  {
   "cell_type": "markdown",
   "id": "442693c6-6d45-4419-91c0-4b242bb03480",
   "metadata": {},
   "source": [
    "![Cases By Age](img/2021_12_01_18_27_25_covid_19_deaths_and_cases.png)"
   ]
  },
  {
   "cell_type": "code",
   "execution_count": 1,
   "id": "4724e831-2779-4804-9507-1911e1b9465c",
   "metadata": {},
   "outputs": [],
   "source": [
    "# Imports\n",
    "\n",
    "# Numerical arrays\n",
    "import numpy as np\n",
    "\n",
    "# Pandas DataFrame\n",
    "import pandas as pd"
   ]
  },
  {
   "cell_type": "markdown",
   "id": "d6fd48ed-6421-4de7-89a2-390003baee00",
   "metadata": {},
   "source": [
    "## Age Groups"
   ]
  },
  {
   "cell_type": "markdown",
   "id": "9835b5e9-5516-40ff-ba24-04277d7aee9c",
   "metadata": {},
   "source": [
    "From the above data on the CSO website, I have created some variables and a pandas dataframe. I used NumPy Random Choice to with the various probabilities to simulate the data."
   ]
  },
  {
   "cell_type": "code",
   "execution_count": 2,
   "id": "4bf012ef-525f-4dae-82fd-d202a6f87271",
   "metadata": {},
   "outputs": [],
   "source": [
    "# Age groups as a 1d NumPy array\n",
    "\n",
    "age_groups = (['0-14', '15-24', '25-44', '45-64', '65-79', '80+'])"
   ]
  },
  {
   "cell_type": "code",
   "execution_count": 3,
   "id": "a14ef9b5-93d9-420a-ae3b-be4a03fa65bf",
   "metadata": {},
   "outputs": [],
   "source": [
    "age_cases = ([80308, 96151, 160951, 110574, 33681, 16071])\n",
    "total_age_cases = 497736"
   ]
  },
  {
   "cell_type": "code",
   "execution_count": 4,
   "id": "b5e519f6-0274-4f51-b90e-11de26270fdb",
   "metadata": {},
   "outputs": [],
   "source": [
    "# Function to calculate percentages [06]\n",
    "\n",
    "def get_percent(numer, integer = False):\n",
    "   percent = numer / total_age_cases * 100\n",
    "   \n",
    "   if integer:\n",
    "       return int(percent)\n",
    "   return percent"
   ]
  },
  {
   "cell_type": "code",
   "execution_count": 5,
   "id": "c307100a-b018-4d35-8de5-d679e58b2eb8",
   "metadata": {},
   "outputs": [
    {
     "name": "stdout",
     "output_type": "stream",
     "text": [
      "The percentage of age group 0-14 is 16.134657730202356%\n",
      "The percentage of age group 15-24 is 19.317670411623833%\n",
      "The percentage of age group 25-44 is 32.33662021633958%\n",
      "The percentage of age group 45-64 is 22.21539129176913%\n",
      "The percentage of age group 65-79 is 6.766840252664062%\n",
      "The percentage of age group 80+ is 3.228820097401032%\n"
     ]
    }
   ],
   "source": [
    "# Calculate the percentages of cases for each age group [01]\n",
    "\n",
    "for i, j in zip(age_cases, age_groups):\n",
    "    percentage = get_percent(i)\n",
    "    print(f\"The percentage of age group {j} is {percentage}%\")"
   ]
  },
  {
   "cell_type": "code",
   "execution_count": 6,
   "id": "1884e55e-715e-400e-b90c-e21feab0bc2e",
   "metadata": {},
   "outputs": [],
   "source": [
    "# Set the Random Number Generator with a seed value [07]\n",
    "\n",
    "rng = np.random.default_rng(121) "
   ]
  },
  {
   "cell_type": "code",
   "execution_count": 7,
   "id": "6434be79-cba8-41ea-a0d0-67ed2092fb6b",
   "metadata": {},
   "outputs": [
    {
     "data": {
      "text/plain": [
       "array(['25-44', '15-24', '45-64', '25-44', '25-44', '45-64', '25-44',\n",
       "       '25-44', '15-24', '0-14', '45-64', '25-44', '65-79', '25-44',\n",
       "       '45-64', '25-44', '45-64', '15-24', '25-44', '0-14', '45-64',\n",
       "       '15-24', '45-64', '25-44', '25-44', '25-44', '25-44', '25-44',\n",
       "       '0-14', '15-24', '25-44', '15-24', '25-44', '0-14', '45-64',\n",
       "       '15-24', '65-79', '15-24', '15-24', '25-44', '45-64', '25-44',\n",
       "       '45-64', '80+', '45-64', '0-14', '45-64', '0-14', '80+', '25-44',\n",
       "       '15-24', '15-24', '15-24', '45-64', '0-14', '15-24', '15-24',\n",
       "       '25-44', '45-64', '0-14', '0-14', '45-64', '15-24', '25-44',\n",
       "       '0-14', '15-24', '25-44', '25-44', '45-64', '0-14', '15-24',\n",
       "       '45-64', '25-44', '15-24', '15-24', '80+', '25-44', '45-64',\n",
       "       '0-14', '0-14', '15-24', '80+', '0-14', '25-44', '15-24', '0-14',\n",
       "       '0-14', '15-24', '15-24', '15-24', '45-64', '45-64', '45-64',\n",
       "       '0-14', '15-24', '25-44', '65-79', '65-79', '65-79', '65-79'],\n",
       "      dtype='<U5')"
      ]
     },
     "execution_count": 7,
     "metadata": {},
     "output_type": "execute_result"
    }
   ],
   "source": [
    "# Generate a random sample from the age_cases array [08]\n",
    "\n",
    "patient_ages = rng.choice(age_groups, size = 100, p = [0.17, 0.19, 0.32, 0.22, 0.07, 0.03])\n",
    "patient_ages"
   ]
  },
  {
   "cell_type": "code",
   "execution_count": 8,
   "id": "a72fdf9f-856d-40ec-bd04-9a1d8bd47917",
   "metadata": {},
   "outputs": [
    {
     "data": {
      "text/html": [
       "<div>\n",
       "<style scoped>\n",
       "    .dataframe tbody tr th:only-of-type {\n",
       "        vertical-align: middle;\n",
       "    }\n",
       "\n",
       "    .dataframe tbody tr th {\n",
       "        vertical-align: top;\n",
       "    }\n",
       "\n",
       "    .dataframe thead th {\n",
       "        text-align: right;\n",
       "    }\n",
       "</style>\n",
       "<table border=\"1\" class=\"dataframe\">\n",
       "  <thead>\n",
       "    <tr style=\"text-align: right;\">\n",
       "      <th></th>\n",
       "      <th>Age Group</th>\n",
       "    </tr>\n",
       "  </thead>\n",
       "  <tbody>\n",
       "    <tr>\n",
       "      <th>0</th>\n",
       "      <td>25-44</td>\n",
       "    </tr>\n",
       "    <tr>\n",
       "      <th>1</th>\n",
       "      <td>15-24</td>\n",
       "    </tr>\n",
       "    <tr>\n",
       "      <th>2</th>\n",
       "      <td>45-64</td>\n",
       "    </tr>\n",
       "    <tr>\n",
       "      <th>3</th>\n",
       "      <td>25-44</td>\n",
       "    </tr>\n",
       "    <tr>\n",
       "      <th>4</th>\n",
       "      <td>25-44</td>\n",
       "    </tr>\n",
       "    <tr>\n",
       "      <th>...</th>\n",
       "      <td>...</td>\n",
       "    </tr>\n",
       "    <tr>\n",
       "      <th>95</th>\n",
       "      <td>25-44</td>\n",
       "    </tr>\n",
       "    <tr>\n",
       "      <th>96</th>\n",
       "      <td>65-79</td>\n",
       "    </tr>\n",
       "    <tr>\n",
       "      <th>97</th>\n",
       "      <td>65-79</td>\n",
       "    </tr>\n",
       "    <tr>\n",
       "      <th>98</th>\n",
       "      <td>65-79</td>\n",
       "    </tr>\n",
       "    <tr>\n",
       "      <th>99</th>\n",
       "      <td>65-79</td>\n",
       "    </tr>\n",
       "  </tbody>\n",
       "</table>\n",
       "<p>100 rows × 1 columns</p>\n",
       "</div>"
      ],
      "text/plain": [
       "   Age Group\n",
       "0      25-44\n",
       "1      15-24\n",
       "2      45-64\n",
       "3      25-44\n",
       "4      25-44\n",
       "..       ...\n",
       "95     25-44\n",
       "96     65-79\n",
       "97     65-79\n",
       "98     65-79\n",
       "99     65-79\n",
       "\n",
       "[100 rows x 1 columns]"
      ]
     },
     "execution_count": 8,
     "metadata": {},
     "output_type": "execute_result"
    }
   ],
   "source": [
    "# Put the patient_ages array into a Pandas DataFrame [09]\n",
    "\n",
    "dfcovid = pd.DataFrame(data = patient_ages, columns = ['Age Group'])\n",
    "dfcovid"
   ]
  },
  {
   "cell_type": "code",
   "execution_count": 9,
   "id": "a0146a14-fb60-46b1-8a1a-62e019de29ce",
   "metadata": {},
   "outputs": [
    {
     "data": {
      "text/plain": [
       "27"
      ]
     },
     "execution_count": 9,
     "metadata": {},
     "output_type": "execute_result"
    }
   ],
   "source": [
    "# Check the amount of 25-44 year olds in the dataset\n",
    "\n",
    "len(dfcovid.loc[dfcovid.loc[:,'Age Group'] == '25-44'])"
   ]
  },
  {
   "cell_type": "code",
   "execution_count": 10,
   "id": "b0230446-522e-4836-9383-dee4d03cfa4e",
   "metadata": {},
   "outputs": [],
   "source": [
    "# Convert the age groups to actual ages [10]\n",
    "\n",
    "def actual_ages (x):\n",
    "   if x['Age Group'] == '0-14' :\n",
    "      return rng.integers (0, 15, 1)\n",
    "   elif x['Age Group'] == '15-24' :\n",
    "      return rng.integers (15, 25, 1)\n",
    "   elif x['Age Group'] == '25-44' :\n",
    "      return rng.integers (25, 45, 1)\n",
    "   elif x['Age Group'] == '45-64' :\n",
    "      return rng.integers (45, 65, 1)\n",
    "   elif x['Age Group'] == '65-79' :\n",
    "      return rng.integers (65, 80, 1)\n",
    "   else:\n",
    "    return rng.integers (80, 100, 1)"
   ]
  },
  {
   "cell_type": "code",
   "execution_count": 11,
   "id": "da68687c-6cae-4a92-bf63-ff77addc979f",
   "metadata": {},
   "outputs": [
    {
     "data": {
      "text/html": [
       "<div>\n",
       "<style scoped>\n",
       "    .dataframe tbody tr th:only-of-type {\n",
       "        vertical-align: middle;\n",
       "    }\n",
       "\n",
       "    .dataframe tbody tr th {\n",
       "        vertical-align: top;\n",
       "    }\n",
       "\n",
       "    .dataframe thead th {\n",
       "        text-align: right;\n",
       "    }\n",
       "</style>\n",
       "<table border=\"1\" class=\"dataframe\">\n",
       "  <thead>\n",
       "    <tr style=\"text-align: right;\">\n",
       "      <th></th>\n",
       "      <th>Age Group</th>\n",
       "      <th>Age</th>\n",
       "    </tr>\n",
       "  </thead>\n",
       "  <tbody>\n",
       "    <tr>\n",
       "      <th>0</th>\n",
       "      <td>25-44</td>\n",
       "      <td>41</td>\n",
       "    </tr>\n",
       "    <tr>\n",
       "      <th>1</th>\n",
       "      <td>15-24</td>\n",
       "      <td>19</td>\n",
       "    </tr>\n",
       "    <tr>\n",
       "      <th>2</th>\n",
       "      <td>45-64</td>\n",
       "      <td>50</td>\n",
       "    </tr>\n",
       "    <tr>\n",
       "      <th>3</th>\n",
       "      <td>25-44</td>\n",
       "      <td>33</td>\n",
       "    </tr>\n",
       "    <tr>\n",
       "      <th>4</th>\n",
       "      <td>25-44</td>\n",
       "      <td>39</td>\n",
       "    </tr>\n",
       "    <tr>\n",
       "      <th>...</th>\n",
       "      <td>...</td>\n",
       "      <td>...</td>\n",
       "    </tr>\n",
       "    <tr>\n",
       "      <th>95</th>\n",
       "      <td>25-44</td>\n",
       "      <td>44</td>\n",
       "    </tr>\n",
       "    <tr>\n",
       "      <th>96</th>\n",
       "      <td>65-79</td>\n",
       "      <td>65</td>\n",
       "    </tr>\n",
       "    <tr>\n",
       "      <th>97</th>\n",
       "      <td>65-79</td>\n",
       "      <td>71</td>\n",
       "    </tr>\n",
       "    <tr>\n",
       "      <th>98</th>\n",
       "      <td>65-79</td>\n",
       "      <td>74</td>\n",
       "    </tr>\n",
       "    <tr>\n",
       "      <th>99</th>\n",
       "      <td>65-79</td>\n",
       "      <td>72</td>\n",
       "    </tr>\n",
       "  </tbody>\n",
       "</table>\n",
       "<p>100 rows × 2 columns</p>\n",
       "</div>"
      ],
      "text/plain": [
       "   Age Group  Age\n",
       "0      25-44   41\n",
       "1      15-24   19\n",
       "2      45-64   50\n",
       "3      25-44   33\n",
       "4      25-44   39\n",
       "..       ...  ...\n",
       "95     25-44   44\n",
       "96     65-79   65\n",
       "97     65-79   71\n",
       "98     65-79   74\n",
       "99     65-79   72\n",
       "\n",
       "[100 rows x 2 columns]"
      ]
     },
     "execution_count": 11,
     "metadata": {},
     "output_type": "execute_result"
    }
   ],
   "source": [
    "# Use pd.DataFrame.apply to add the the actual ages to the dfcovid dataframe\n",
    "# [10], [11], [12], [13]\n",
    "\n",
    "dfcovid['Age'] = dfcovid.apply (lambda x: actual_ages(x), axis = 1)\n",
    "dfcovid['Age'] = dfcovid['Age'].astype(int)\n",
    "dfcovid"
   ]
  },
  {
   "cell_type": "markdown",
   "id": "83f3cbb2-d64e-4a67-a5fb-b7ca78fc3e1e",
   "metadata": {},
   "source": [
    "## Genders"
   ]
  },
  {
   "cell_type": "markdown",
   "id": "003eae17-7552-493f-9330-8eec00effa39",
   "metadata": {},
   "source": [
    "According to the CSO site, around 49% of patients with Covid-19 are female [04]. Below I have used the NumPy Random package to simulate this date and added a column called gender to the dataframe."
   ]
  },
  {
   "cell_type": "code",
   "execution_count": 12,
   "id": "e6126e81-9fbc-413b-81a8-398862964b78",
   "metadata": {},
   "outputs": [
    {
     "data": {
      "text/plain": [
       "0.48889384594670093"
      ]
     },
     "execution_count": 12,
     "metadata": {},
     "output_type": "execute_result"
    }
   ],
   "source": [
    "# Ratio of Male to Female\n",
    "\n",
    "males = 254330\n",
    "females = 243277\n",
    "total = males = females + males\n",
    "\n",
    "ratio_females = females / total\n",
    "ratio_females"
   ]
  },
  {
   "cell_type": "code",
   "execution_count": 13,
   "id": "68e5d82e-8ca0-4c99-bc79-70e1b0e0b4a9",
   "metadata": {},
   "outputs": [
    {
     "data": {
      "text/plain": [
       "array([0, 0, 1, 1, 0, 0, 0, 1, 0, 0, 0, 0, 1, 1, 1, 1, 1, 0, 1, 0, 0, 0,\n",
       "       0, 1, 0, 0, 0, 0, 0, 1, 0, 1, 0, 0, 1, 0, 1, 0, 0, 1, 0, 0, 1, 1,\n",
       "       1, 1, 1, 0, 0, 1, 1, 1, 0, 0, 1, 0, 1, 0, 0, 1, 1, 0, 1, 0, 0, 0,\n",
       "       1, 1, 1, 1, 0, 0, 0, 1, 1, 1, 0, 0, 0, 1, 1, 0, 1, 0, 0, 1, 1, 1,\n",
       "       1, 0, 1, 0, 1, 0, 1, 1, 1, 0, 0, 0], dtype=int64)"
      ]
     },
     "execution_count": 13,
     "metadata": {},
     "output_type": "execute_result"
    }
   ],
   "source": [
    "# Use rng.binomial to choose male or female [14]\n",
    "\n",
    "patient_genders_binom = rng.binomial(1, ratio_females, 100)\n",
    "patient_genders_binom"
   ]
  },
  {
   "cell_type": "code",
   "execution_count": 14,
   "id": "857b0431-7c52-4d84-8d45-0c07794114a3",
   "metadata": {},
   "outputs": [
    {
     "data": {
      "text/html": [
       "<div>\n",
       "<style scoped>\n",
       "    .dataframe tbody tr th:only-of-type {\n",
       "        vertical-align: middle;\n",
       "    }\n",
       "\n",
       "    .dataframe tbody tr th {\n",
       "        vertical-align: top;\n",
       "    }\n",
       "\n",
       "    .dataframe thead th {\n",
       "        text-align: right;\n",
       "    }\n",
       "</style>\n",
       "<table border=\"1\" class=\"dataframe\">\n",
       "  <thead>\n",
       "    <tr style=\"text-align: right;\">\n",
       "      <th></th>\n",
       "      <th>Age Group</th>\n",
       "      <th>Age</th>\n",
       "      <th>Gender</th>\n",
       "    </tr>\n",
       "  </thead>\n",
       "  <tbody>\n",
       "    <tr>\n",
       "      <th>0</th>\n",
       "      <td>25-44</td>\n",
       "      <td>41</td>\n",
       "      <td>0</td>\n",
       "    </tr>\n",
       "    <tr>\n",
       "      <th>1</th>\n",
       "      <td>15-24</td>\n",
       "      <td>19</td>\n",
       "      <td>0</td>\n",
       "    </tr>\n",
       "    <tr>\n",
       "      <th>2</th>\n",
       "      <td>45-64</td>\n",
       "      <td>50</td>\n",
       "      <td>1</td>\n",
       "    </tr>\n",
       "    <tr>\n",
       "      <th>3</th>\n",
       "      <td>25-44</td>\n",
       "      <td>33</td>\n",
       "      <td>1</td>\n",
       "    </tr>\n",
       "    <tr>\n",
       "      <th>4</th>\n",
       "      <td>25-44</td>\n",
       "      <td>39</td>\n",
       "      <td>0</td>\n",
       "    </tr>\n",
       "    <tr>\n",
       "      <th>...</th>\n",
       "      <td>...</td>\n",
       "      <td>...</td>\n",
       "      <td>...</td>\n",
       "    </tr>\n",
       "    <tr>\n",
       "      <th>95</th>\n",
       "      <td>25-44</td>\n",
       "      <td>44</td>\n",
       "      <td>1</td>\n",
       "    </tr>\n",
       "    <tr>\n",
       "      <th>96</th>\n",
       "      <td>65-79</td>\n",
       "      <td>65</td>\n",
       "      <td>1</td>\n",
       "    </tr>\n",
       "    <tr>\n",
       "      <th>97</th>\n",
       "      <td>65-79</td>\n",
       "      <td>71</td>\n",
       "      <td>0</td>\n",
       "    </tr>\n",
       "    <tr>\n",
       "      <th>98</th>\n",
       "      <td>65-79</td>\n",
       "      <td>74</td>\n",
       "      <td>0</td>\n",
       "    </tr>\n",
       "    <tr>\n",
       "      <th>99</th>\n",
       "      <td>65-79</td>\n",
       "      <td>72</td>\n",
       "      <td>0</td>\n",
       "    </tr>\n",
       "  </tbody>\n",
       "</table>\n",
       "<p>100 rows × 3 columns</p>\n",
       "</div>"
      ],
      "text/plain": [
       "   Age Group  Age  Gender\n",
       "0      25-44   41       0\n",
       "1      15-24   19       0\n",
       "2      45-64   50       1\n",
       "3      25-44   33       1\n",
       "4      25-44   39       0\n",
       "..       ...  ...     ...\n",
       "95     25-44   44       1\n",
       "96     65-79   65       1\n",
       "97     65-79   71       0\n",
       "98     65-79   74       0\n",
       "99     65-79   72       0\n",
       "\n",
       "[100 rows x 3 columns]"
      ]
     },
     "execution_count": 14,
     "metadata": {},
     "output_type": "execute_result"
    }
   ],
   "source": [
    "# Declare a the new array patient_genders_binom as a column [15]\n",
    "\n",
    "dfcovid['Gender'] = patient_genders_binom\n",
    "dfcovid"
   ]
  },
  {
   "cell_type": "code",
   "execution_count": 15,
   "id": "bcd11936-8738-4e2f-83b2-3b59da6f0031",
   "metadata": {},
   "outputs": [],
   "source": [
    "# Function to turn the 1's and 0's into Genders [10]\n",
    "\n",
    "def get_genders(x):\n",
    "    if x['Gender'] == 0:\n",
    "        return 'Male'\n",
    "    else:\n",
    "        return 'Female'"
   ]
  },
  {
   "cell_type": "code",
   "execution_count": 16,
   "id": "c1a4f9e3-b109-4b0d-92a3-d52858496c30",
   "metadata": {},
   "outputs": [
    {
     "data": {
      "text/html": [
       "<div>\n",
       "<style scoped>\n",
       "    .dataframe tbody tr th:only-of-type {\n",
       "        vertical-align: middle;\n",
       "    }\n",
       "\n",
       "    .dataframe tbody tr th {\n",
       "        vertical-align: top;\n",
       "    }\n",
       "\n",
       "    .dataframe thead th {\n",
       "        text-align: right;\n",
       "    }\n",
       "</style>\n",
       "<table border=\"1\" class=\"dataframe\">\n",
       "  <thead>\n",
       "    <tr style=\"text-align: right;\">\n",
       "      <th></th>\n",
       "      <th>Age Group</th>\n",
       "      <th>Age</th>\n",
       "      <th>Gender</th>\n",
       "    </tr>\n",
       "  </thead>\n",
       "  <tbody>\n",
       "    <tr>\n",
       "      <th>60</th>\n",
       "      <td>0-14</td>\n",
       "      <td>0</td>\n",
       "      <td>Female</td>\n",
       "    </tr>\n",
       "    <tr>\n",
       "      <th>93</th>\n",
       "      <td>0-14</td>\n",
       "      <td>0</td>\n",
       "      <td>Male</td>\n",
       "    </tr>\n",
       "    <tr>\n",
       "      <th>78</th>\n",
       "      <td>0-14</td>\n",
       "      <td>1</td>\n",
       "      <td>Male</td>\n",
       "    </tr>\n",
       "    <tr>\n",
       "      <th>54</th>\n",
       "      <td>0-14</td>\n",
       "      <td>1</td>\n",
       "      <td>Female</td>\n",
       "    </tr>\n",
       "    <tr>\n",
       "      <th>33</th>\n",
       "      <td>0-14</td>\n",
       "      <td>2</td>\n",
       "      <td>Male</td>\n",
       "    </tr>\n",
       "    <tr>\n",
       "      <th>...</th>\n",
       "      <td>...</td>\n",
       "      <td>...</td>\n",
       "      <td>...</td>\n",
       "    </tr>\n",
       "    <tr>\n",
       "      <th>36</th>\n",
       "      <td>65-79</td>\n",
       "      <td>76</td>\n",
       "      <td>Female</td>\n",
       "    </tr>\n",
       "    <tr>\n",
       "      <th>81</th>\n",
       "      <td>80+</td>\n",
       "      <td>80</td>\n",
       "      <td>Male</td>\n",
       "    </tr>\n",
       "    <tr>\n",
       "      <th>48</th>\n",
       "      <td>80+</td>\n",
       "      <td>82</td>\n",
       "      <td>Male</td>\n",
       "    </tr>\n",
       "    <tr>\n",
       "      <th>43</th>\n",
       "      <td>80+</td>\n",
       "      <td>85</td>\n",
       "      <td>Female</td>\n",
       "    </tr>\n",
       "    <tr>\n",
       "      <th>75</th>\n",
       "      <td>80+</td>\n",
       "      <td>88</td>\n",
       "      <td>Female</td>\n",
       "    </tr>\n",
       "  </tbody>\n",
       "</table>\n",
       "<p>100 rows × 3 columns</p>\n",
       "</div>"
      ],
      "text/plain": [
       "   Age Group  Age  Gender\n",
       "60      0-14    0  Female\n",
       "93      0-14    0    Male\n",
       "78      0-14    1    Male\n",
       "54      0-14    1  Female\n",
       "33      0-14    2    Male\n",
       "..       ...  ...     ...\n",
       "36     65-79   76  Female\n",
       "81       80+   80    Male\n",
       "48       80+   82    Male\n",
       "43       80+   85  Female\n",
       "75       80+   88  Female\n",
       "\n",
       "[100 rows x 3 columns]"
      ]
     },
     "execution_count": 16,
     "metadata": {},
     "output_type": "execute_result"
    }
   ],
   "source": [
    "# Use pd.DataFrame.apply to add the the genders to the dfcovid dataframe\n",
    "# [10], [11], [12], [13]\n",
    "\n",
    "dfcovid['Gender'] = dfcovid.apply (lambda x: get_genders(x), axis = 1)\n",
    "dfcovid.sort_values(by = ['Age'], inplace = True)\n",
    "dfcovid"
   ]
  },
  {
   "cell_type": "code",
   "execution_count": 17,
   "id": "fd109e96-ff8b-430c-b21e-4dad1ea09b4d",
   "metadata": {},
   "outputs": [
    {
     "data": {
      "text/plain": [
       "53"
      ]
     },
     "execution_count": 17,
     "metadata": {},
     "output_type": "execute_result"
    }
   ],
   "source": [
    "# Check the amount of Males in the dataset\n",
    "\n",
    "len(dfcovid.loc[dfcovid.loc[:,'Gender'] == 'Male'])"
   ]
  },
  {
   "cell_type": "markdown",
   "id": "d028f4ab-ab78-4625-9d60-0161443e1111",
   "metadata": {},
   "source": [
    "Here I have created a pandas dataframe that has an age group for each patient, their actual age and their gender according the the CSO statistics. The next column to create will be whether or not the patients have any underlying conditions."
   ]
  },
  {
   "cell_type": "markdown",
   "id": "c35ca14a-56d7-49c8-89a1-cfcf8ccd086e",
   "metadata": {},
   "source": [
    "## Underlying Health Conditions"
   ]
  },
  {
   "cell_type": "code",
   "execution_count": null,
   "id": "3de7e73f-ddaf-46d2-a810-3f852307d229",
   "metadata": {},
   "outputs": [],
   "source": []
  },
  {
   "cell_type": "markdown",
   "id": "55bab615-2fee-493c-a3ce-b4efa03e04ea",
   "metadata": {},
   "source": [
    "## References"
   ]
  },
  {
   "cell_type": "markdown",
   "id": "def3abc3-1434-41c6-b520-30eb7cebd8f1",
   "metadata": {},
   "source": [
    "[01][DelftStack - Loop Through Multiple Lists in Python](https://www.delftstack.com/howto/python/how-to-loop-through-multiple-lists-in-python/)<br>\n",
    "[02][COVID-19 Vaccination Uptake in IrelandWeekly Report ](chrome-extension://efaidnbmnnnibpcajpcglclefindmkaj/viewer.html?pdfurl=https%3A%2F%2Fwww.hpsc.ie%2Fa-z%2Frespiratory%2Fcoronavirus%2Fnovelcoronavirus%2Fvaccination%2Fcovid-19vaccinationuptakereports%2FCOVID-19%2520Vaccination%2520Uptake%2520in%2520Ireland%2520Weekly%2520Report%2520Week%252046%25202021.pdf&clen=484980&chunk=true)<br>\n",
    "[03][geohive - ICU, Acute Hospital & Testing Data](https://covid19ireland-geohive.hub.arcgis.com/pages/hospitals-icu--testing)<br>\n",
    "[04][CSO - COVID-19 Deaths and Cases, Series 36](https://www.cso.ie/en/releasesandpublications/br/b-cdc/covid-19deathsandcasesseries36/)<br>\n",
    "[05][CSO - COVID-19 Vaccination Statistics Series 1](https://www.cso.ie/en/releasesandpublications/br/b-cvac/covid-19vaccinationstatisticsseries1/)<br>\n",
    "[06][skillsugar.com - How to Calculate a Percentage in Python](https://www.skillsugar.com/how-to-calculate-a-percentage-in-python)<br>\n",
    "[07][numpy.org - Random Generator](https://numpy.org/doc/stable/reference/random/generator.html)<br>\n",
    "[08][numpy.org - Choice](https://numpy.org/doc/stable/reference/random/generated/numpy.random.Generator.choice.html#numpy.random.Generator.choice)<br>\n",
    "[09][pandas.DataFrame](https://pandas.pydata.org/pandas-docs/stable/reference/api/pandas.DataFrame.html)<br>\n",
    "[10][pandas.DataFrame.apply](https://pandas.pydata.org/pandas-docs/stable/reference/api/pandas.DataFrame.apply.html)<br>\n",
    "[11][numpy.org - Integers](https://numpy.org/doc/stable/reference/random/generated/numpy.random.Generator.integers.html#numpy.random.Generator.integers)<br>\n",
    "[12][stackoverflow - Adding a column in pandas df using a function](https://stackoverflow.com/questions/40045632/adding-a-column-in-pandas-df-using-a-function)<br>\n",
    "[13][statology.org - How to Convert Pandas DataFrame Columns to int](https://www.statology.org/pandas-convert-column-to-int/)<br>\n",
    "[14][numpy.org - Binomial](https://numpy.org/doc/stable/reference/random/generated/numpy.random.Generator.binomial.html#numpy.random.Generator.binomial)<br>\n",
    "[15][re-thought.com - How to add new columns to Pandas dataframe?](https://re-thought.com/how-to-add-new-columns-in-a-dataframe-in-pandas/)<br>\n",
    "[][]()<br>\n",
    "[][]()<br>\n",
    "[][]()<br>\n",
    "[][]()<br>\n",
    "[][]()<br>\n",
    "[][]()<br>\n",
    "[][]()<br>\n",
    "[][]()<br>\n",
    "[][]()<br>\n"
   ]
  },
  {
   "cell_type": "markdown",
   "id": "9c2734d8-ac05-488f-87c2-5386334ff077",
   "metadata": {},
   "source": [
    "## END"
   ]
  }
 ],
 "metadata": {
  "kernelspec": {
   "display_name": "Python 3",
   "language": "python",
   "name": "python3"
  },
  "language_info": {
   "codemirror_mode": {
    "name": "ipython",
    "version": 3
   },
   "file_extension": ".py",
   "mimetype": "text/x-python",
   "name": "python",
   "nbconvert_exporter": "python",
   "pygments_lexer": "ipython3",
   "version": "3.8.8"
  }
 },
 "nbformat": 4,
 "nbformat_minor": 5
}
