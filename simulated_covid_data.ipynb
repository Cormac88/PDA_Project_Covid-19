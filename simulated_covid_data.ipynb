{
 "cells": [
  {
   "cell_type": "markdown",
   "id": "d056c803-fde0-40b4-b284-1616df9be855",
   "metadata": {
    "tags": []
   },
   "source": [
    "# Covid-19 Statistics Using Simulated Data\n",
    "\n",
    "***"
   ]
  },
  {
   "cell_type": "markdown",
   "id": "dc5ed9ea-b2c9-422d-a191-0e46b5a7cc49",
   "metadata": {},
   "source": [
    "<br>\n",
    "\n",
    "## Objectives of this Project\n",
    "\n",
    "***\n",
    "\n",
    "The objective of this project is to synthesise and simulate some data about Covid-19 cases in Ireland using the NumPy Random package and basing this off real data from sources such as the the World Health Organisation, the Central Statistics Office in Ireland (CSO), the Health Service Executive (HSE) in Ireland and GeoHive (Ireland's National Geospatial Data Hub). The sample size will be 100 and the variables that I will analyse will be:\n",
    "\n",
    "- Age\n",
    "- Gender\n",
    "- Underlying Conditions\n",
    "- Vaccination Status\n",
    "- Hospitalisation\n",
    "- Admission to ICU\n",
    "- Death/Recovery"
   ]
  },
  {
   "cell_type": "markdown",
   "id": "a9ab29ae-0955-4d10-a6b4-adc5eb2c1090",
   "metadata": {},
   "source": [
    "To breakdown this project and to start it, I am going to focus on the Age variable first. I will get some statistics from the web and get the age data simulated and put this into a Pandas DataFrame using NumPy. Because there is lots of data on Covid-19 in Ireland on the web from different time periods, I will be using as much of the data as I can from the beginning of the pandemic up until the present. I will use all of this data to create a simulated dataset that encapsulates the whole pandemic. The code will be such that the input variables for the data can be changed as time goes on and more data is available. The aim of the project is to be able to simulate data into the future and to possibly predict future trends in the pandemic.<br>"
   ]
  },
  {
   "cell_type": "markdown",
   "id": "89c5f68d-340c-44b4-b25c-7d257680adb3",
   "metadata": {
    "tags": []
   },
   "source": [
    "***\n",
    "\n",
    "## Covid-19 in Ireland and the Rest of the World\n",
    "\n",
    "***"
   ]
  },
  {
   "cell_type": "markdown",
   "id": "b15f21e4-c5e3-4de9-b9dc-03ef4a5da4db",
   "metadata": {},
   "source": [
    "I think that it is safe to say that anyone reading this notebook has firm enough grasp on what has been happening with this disease in the last 2 years. In December 2019 the first known case of the virus SARS-CoV-2 was identified in Wuhan, China. The disease has since spread worldwide, leading to an ongoing pandemic. [16] SARS-CoV-2 is a coronavirus. Each SARS-CoV-2 virion is 50–200 nanometres in diameter. Like other coronaviruses, SARS-CoV-2 has four structural proteins, known as the S (spike), E (envelope), M (membrane), and N (nucleocapsid) proteins; the N protein holds the RNA genome, and the S, E, and M proteins together create the viral envelope. [17]"
   ]
  },
  {
   "cell_type": "markdown",
   "id": "de22922a-7ce5-4175-9ed4-70cf66e41dee",
   "metadata": {},
   "source": [
    "![SARS-CoV-2](https://upload.wikimedia.org/wikipedia/commons/thumb/9/94/Coronavirus._SARS-CoV-2.png/768px-Coronavirus._SARS-CoV-2.png)<br>\n",
    "**SARS-CoV-2 (virus)**"
   ]
  },
  {
   "cell_type": "markdown",
   "id": "45f23469-1ad4-4583-91fa-d8357674d566",
   "metadata": {},
   "source": [
    "Symptoms of COVID-19 are variable, but often include fever, cough, headache, fatigue, breathing difficulties, and loss of smell and taste. Symptoms may begin one to fourteen days after exposure to the virus. COVID-19 transmits when people breathe in air contaminated by droplets and small airborne particles containing the virus. The risk of breathing these in is highest when people are in close proximity, but they can be inhaled over longer distances, particularly indoors. [16] The diagram below illustrates the Transmission and life-cycle of SARS-CoV-2 causing COVID-19."
   ]
  },
  {
   "cell_type": "markdown",
   "id": "ebd139b3-c093-4a70-92d1-2ccabebd52e7",
   "metadata": {},
   "source": [
    "![](https://upload.wikimedia.org/wikipedia/commons/4/48/Fphar-11-00937-g001.jpg)<br>\n",
    "**Transmission and life-cycle of SARS-CoV-2 causing COVID-19**"
   ]
  },
  {
   "cell_type": "markdown",
   "id": "8af9dc7b-a567-4d13-bfc6-0ba3b63950c9",
   "metadata": {},
   "source": [
    "## Age Groups"
   ]
  },
  {
   "cell_type": "markdown",
   "id": "2a60c536-3c9b-4508-93b0-194f5316d4f6",
   "metadata": {},
   "source": [
    "The first variable in the dataset that I am going to simulate is age. Using NumPy's Random module, I will use `numpy.random.Generator.choice` and `numpy.random.Generator.integers` to generate these ages. Using the data that is available, I will use the percentages of people within each age group that contract COVID-19 as the probability parameter in the `choice` random generator. I will then also use a series of if statements to decide which `integers` to use on them.<br>"
   ]
  },
  {
   "cell_type": "markdown",
   "id": "d7629153-e7ab-4f49-9ed9-2bc95cd7d561",
   "metadata": {},
   "source": [
    "From the CSO website, COVID-19 Deaths and Cases, Series 36: [04]. This data is from 16/11/2021 up to the 12/11/2021:"
   ]
  },
  {
   "cell_type": "markdown",
   "id": "442693c6-6d45-4419-91c0-4b242bb03480",
   "metadata": {},
   "source": [
    "![Cases By Age-CSO](img/2021_12_01_18_27_25_covid_19_deaths_and_cases.png)"
   ]
  },
  {
   "cell_type": "markdown",
   "id": "759abf2b-f8c6-4bd0-b060-f94a9a4cdcae",
   "metadata": {},
   "source": [
    "From HSE Epidemiology  of COVID-19 in  Ireland  -  14  day  report Summary  characteristics  of  confirmed  COVID-19  cases  notified  in Ireland from  24/11/2021  up  to  midnight on 07/12/2021:"
   ]
  },
  {
   "cell_type": "markdown",
   "id": "3629138e-71ad-4a32-93a5-f145addf5f01",
   "metadata": {},
   "source": [
    "![Cases By Age-HSE](img/2021_12_17_17_25_30-cidr_14_day_report_20211208.png)"
   ]
  },
  {
   "cell_type": "markdown",
   "id": "3f290aa2-27c3-4ee3-b658-38984ae4de16",
   "metadata": {},
   "source": [
    "Since the HSE site tell us a bit more about the age groups, I am going to use this data since it has more age groups. The percentages are slightly different to the CSO data when calculated as seen below which is a point of interest."
   ]
  },
  {
   "cell_type": "code",
   "execution_count": 1,
   "id": "4724e831-2779-4804-9507-1911e1b9465c",
   "metadata": {},
   "outputs": [],
   "source": [
    "# Imports\n",
    "\n",
    "# Numerical arrays\n",
    "import numpy as np\n",
    "\n",
    "# Pandas DataFrame\n",
    "import pandas as pd\n",
    "\n",
    "# plotting\n",
    "import matplotlib.pyplot as plt\n",
    "\n",
    "# Magic function \n",
    "%matplotlib inline\n",
    "\n",
    "# Change default style sheet\n",
    "plt.style.use('fivethirtyeight')\n",
    "\n",
    "# Change the default parameters\n",
    "plt.rcParams['figure.figsize'] = [10, 6]\n",
    "\n",
    "# Seaborn plots\n",
    "import seaborn as sns"
   ]
  },
  {
   "cell_type": "markdown",
   "id": "d6c69c26-7014-45a8-8bab-2eeef98b4f6a",
   "metadata": {},
   "source": [
    "### Comparing the Percentages"
   ]
  },
  {
   "cell_type": "markdown",
   "id": "9835b5e9-5516-40ff-ba24-04277d7aee9c",
   "metadata": {},
   "source": [
    "Below I have calculated the percent cases by age groups from the CSO table since it was not provided. They turn out to be slightly different the HSE data, but as said above, I am going to use this data since it has more age groups."
   ]
  },
  {
   "cell_type": "code",
   "execution_count": 2,
   "id": "4bf012ef-525f-4dae-82fd-d202a6f87271",
   "metadata": {},
   "outputs": [],
   "source": [
    "# Age groups as a 1d NumPy array\n",
    "\n",
    "age_groups_cso = (['0-14', '15-24', '25-44', '45-64', '65-79', '80+'])"
   ]
  },
  {
   "cell_type": "code",
   "execution_count": 3,
   "id": "a14ef9b5-93d9-420a-ae3b-be4a03fa65bf",
   "metadata": {},
   "outputs": [],
   "source": [
    "age_cases_cso = ([80308, 96151, 160951, 110574, 33681, 16071])\n",
    "total_age_cases_cso = 497736"
   ]
  },
  {
   "cell_type": "code",
   "execution_count": 4,
   "id": "fb5459dd-98cf-4501-b36b-e1c5ba8f7b53",
   "metadata": {},
   "outputs": [],
   "source": [
    "# Function to calculate percentages [06]\n",
    "\n",
    "def get_percent(numer, denom, integer = False):\n",
    "   percent = numer / denom * 100\n",
    "   \n",
    "   if integer:\n",
    "       return int(percent)\n",
    "   return percent"
   ]
  },
  {
   "cell_type": "code",
   "execution_count": 5,
   "id": "15be70f2-1cf2-403f-8bb8-fadc05bfc4db",
   "metadata": {},
   "outputs": [
    {
     "name": "stdout",
     "output_type": "stream",
     "text": [
      "The percentage of age group 0-14 is 16.13%\n",
      "The percentage of age group 15-24 is 19.32%\n",
      "The percentage of age group 25-44 is 32.34%\n",
      "The percentage of age group 45-64 is 22.22%\n",
      "The percentage of age group 65-79 is 6.77%\n",
      "The percentage of age group 80+ is 3.23%\n"
     ]
    }
   ],
   "source": [
    "# Calculate the percentages of cases for each age group [01]\n",
    "\n",
    "for i, j in zip(age_cases_cso, age_groups_cso):\n",
    "    percentage = get_percent(i, total_age_cases_cso)\n",
    "    print(f\"The percentage of age group {j} is {round(percentage, 2)}%\")"
   ]
  },
  {
   "cell_type": "markdown",
   "id": "75cc903f-db21-44ca-b000-6f95075c2702",
   "metadata": {},
   "source": [
    "From the above data on the CSO website, I have created some variables and a pandas dataframe. I used NumPy Random Choice to with the various probabilities to simulate the data."
   ]
  },
  {
   "cell_type": "code",
   "execution_count": 6,
   "id": "2edf2566-53f3-44d0-bc1d-a0781dda17f7",
   "metadata": {},
   "outputs": [],
   "source": [
    "# Age groups as a 1d NumPy array\n",
    "\n",
    "age_groups = (['0-4', '5-12', '13-18', '19-24', '25-34', '35-44', '45-54', '55-64', '65-74', '75-84', '85+'])"
   ]
  },
  {
   "cell_type": "code",
   "execution_count": 7,
   "id": "659b6589-a36a-4d21-9020-1b83f185eb33",
   "metadata": {},
   "outputs": [],
   "source": [
    "age_cases = ([3397, 13560, 3878, 5454, 9124, 12081, 8276, 5328, 2810, 701, 161])\n",
    "total_age_cases = 64780\n",
    "probabilities = [0.052, 0.21, 0.06, 0.084, 0.141, 0.187, 0.128, 0.082, 0.043, 0.011, 0.002]"
   ]
  },
  {
   "cell_type": "code",
   "execution_count": 8,
   "id": "1884e55e-715e-400e-b90c-e21feab0bc2e",
   "metadata": {},
   "outputs": [],
   "source": [
    "# Set the Random Number Generator with a seed value [07]\n",
    "\n",
    "rng = np.random.default_rng(121) "
   ]
  },
  {
   "cell_type": "code",
   "execution_count": 9,
   "id": "6434be79-cba8-41ea-a0d0-67ed2092fb6b",
   "metadata": {},
   "outputs": [
    {
     "data": {
      "text/plain": [
       "array(['35-44', '13-18', '45-54', '35-44', '35-44', '45-54', '25-34',\n",
       "       '19-24', '5-12', '0-4', '45-54', '35-44', '55-64', '25-34',\n",
       "       '45-54', '35-44', '35-44', '5-12', '35-44', '0-4', '35-44',\n",
       "       '19-24', '45-54', '35-44', '25-34', '35-44', '35-44', '35-44',\n",
       "       '5-12', '13-18', '35-44', '19-24', '25-34', '0-4', '45-54', '5-12',\n",
       "       '55-64', '19-24', '13-18', '25-34', '45-54', '25-34', '45-54',\n",
       "       '75-84', '45-54', '5-12', '45-54', '5-12', '65-74', '25-34',\n",
       "       '13-18', '5-12', '13-18', '45-54', '5-12', '5-12', '19-24',\n",
       "       '25-34', '45-54', '0-4', '5-12', '45-54', '5-12', '35-44', '0-4',\n",
       "       '19-24', '35-44', '25-34', '45-54', '0-4', '19-24', '45-54',\n",
       "       '35-44', '13-18', '19-24', '75-84', '35-44', '35-44', '5-12',\n",
       "       '5-12', '5-12', '65-74', '5-12', '25-34', '5-12', '5-12', '5-12',\n",
       "       '13-18', '5-12', '13-18', '45-54', '45-54', '35-44', '0-4', '5-12',\n",
       "       '25-34', '65-74', '55-64', '65-74', '55-64', '25-34', '25-34',\n",
       "       '55-64', '35-44', '55-64', '25-34', '5-12', '25-34', '0-4',\n",
       "       '45-54', '55-64', '13-18', '19-24', '19-24', '45-54', '13-18',\n",
       "       '5-12', '5-12', '65-74', '45-54', '0-4', '13-18', '55-64', '45-54',\n",
       "       '19-24', '35-44', '45-54', '35-44', '5-12', '35-44', '5-12',\n",
       "       '55-64', '55-64', '55-64', '45-54', '19-24', '65-74', '25-34',\n",
       "       '65-74', '19-24', '0-4', '35-44', '19-24', '25-34', '0-4', '45-54',\n",
       "       '0-4', '65-74', '25-34', '25-34', '25-34', '0-4', '35-44', '45-54',\n",
       "       '5-12', '5-12', '19-24', '55-64', '25-34', '5-12', '19-24', '5-12',\n",
       "       '35-44', '55-64', '35-44', '45-54', '35-44', '5-12', '65-74',\n",
       "       '13-18', '25-34', '5-12', '19-24', '65-74', '25-34', '19-24',\n",
       "       '13-18', '19-24', '19-24', '45-54', '5-12', '35-44', '0-4',\n",
       "       '25-34', '55-64', '5-12', '25-34', '25-34', '5-12', '45-54', '0-4',\n",
       "       '13-18', '35-44', '45-54', '35-44', '45-54', '65-74', '13-18',\n",
       "       '5-12', '35-44', '35-44', '55-64', '25-34', '25-34', '65-74',\n",
       "       '25-34', '65-74', '13-18', '19-24', '45-54', '55-64', '5-12',\n",
       "       '55-64', '19-24', '5-12', '5-12', '55-64', '45-54', '35-44',\n",
       "       '55-64', '0-4', '5-12', '5-12', '35-44', '45-54', '25-34', '5-12',\n",
       "       '5-12', '5-12', '35-44', '35-44', '13-18', '35-44', '0-4', '25-34',\n",
       "       '25-34', '35-44', '55-64', '35-44', '5-12', '35-44', '5-12',\n",
       "       '35-44', '5-12', '35-44', '45-54', '45-54', '5-12', '5-12',\n",
       "       '19-24', '45-54', '0-4', '5-12', '0-4', '25-34', '55-64', '45-54',\n",
       "       '35-44', '35-44', '19-24', '45-54', '45-54', '55-64', '35-44',\n",
       "       '25-34', '35-44', '5-12', '25-34', '25-34', '55-64', '55-64',\n",
       "       '65-74', '35-44', '5-12', '5-12', '13-18', '45-54', '25-34',\n",
       "       '13-18', '55-64', '45-54', '35-44', '19-24', '5-12', '65-74',\n",
       "       '65-74', '13-18', '75-84', '65-74', '35-44', '25-34', '25-34',\n",
       "       '13-18', '35-44', '45-54', '35-44', '55-64', '35-44', '5-12',\n",
       "       '5-12', '55-64', '5-12', '5-12', '0-4', '19-24', '13-18', '35-44',\n",
       "       '13-18', '5-12', '13-18', '0-4', '25-34', '25-34', '45-54', '5-12',\n",
       "       '5-12', '25-34', '65-74', '25-34', '55-64', '25-34', '55-64',\n",
       "       '45-54', '55-64', '35-44', '35-44', '35-44', '19-24', '25-34',\n",
       "       '25-34', '25-34', '25-34', '35-44', '0-4', '25-34', '5-12',\n",
       "       '19-24', '5-12', '5-12', '35-44', '35-44', '5-12', '25-34',\n",
       "       '35-44', '35-44', '25-34', '55-64', '5-12', '35-44', '13-18',\n",
       "       '25-34', '55-64', '25-34', '25-34', '5-12', '19-24', '19-24',\n",
       "       '5-12', '35-44', '35-44', '25-34', '5-12', '25-34', '19-24',\n",
       "       '5-12', '45-54', '5-12', '25-34', '25-34', '25-34', '25-34',\n",
       "       '35-44', '55-64', '5-12', '19-24', '35-44', '25-34', '25-34',\n",
       "       '55-64', '25-34', '13-18', '45-54', '13-18', '25-34', '5-12',\n",
       "       '35-44', '0-4', '5-12', '35-44', '5-12', '45-54', '0-4', '19-24',\n",
       "       '35-44', '35-44', '0-4', '5-12', '5-12', '5-12', '45-54', '75-84',\n",
       "       '25-34', '45-54', '5-12', '19-24', '25-34', '0-4', '45-54',\n",
       "       '75-84', '45-54', '35-44', '35-44', '5-12', '35-44', '35-44',\n",
       "       '25-34', '35-44', '35-44', '45-54', '35-44', '35-44', '65-74',\n",
       "       '5-12', '25-34', '25-34', '5-12', '19-24', '25-34', '35-44',\n",
       "       '35-44', '5-12', '5-12', '65-74', '5-12', '5-12', '5-12', '55-64',\n",
       "       '35-44', '25-34', '35-44', '45-54', '0-4', '55-64', '25-34',\n",
       "       '65-74', '25-34', '45-54', '13-18', '35-44', '65-74', '19-24',\n",
       "       '5-12', '5-12', '5-12', '5-12', '45-54', '19-24', '5-12', '75-84',\n",
       "       '19-24', '25-34', '25-34', '35-44', '13-18', '19-24', '5-12',\n",
       "       '25-34', '45-54', '25-34', '5-12', '5-12', '45-54', '25-34',\n",
       "       '45-54', '5-12', '35-44', '13-18', '45-54', '5-12', '13-18',\n",
       "       '35-44', '35-44', '45-54', '5-12', '0-4', '5-12', '19-24', '45-54',\n",
       "       '55-64', '5-12', '0-4', '19-24', '45-54', '19-24', '5-12', '55-64',\n",
       "       '5-12', '65-74', '25-34', '19-24', '5-12', '35-44', '13-18',\n",
       "       '5-12', '35-44', '65-74', '5-12', '25-34', '0-4', '13-18', '35-44',\n",
       "       '25-34', '25-34', '13-18', '35-44', '25-34', '5-12', '25-34',\n",
       "       '25-34', '5-12', '5-12', '25-34', '5-12', '5-12', '45-54', '35-44',\n",
       "       '5-12', '65-74', '45-54', '45-54', '55-64', '45-54', '5-12',\n",
       "       '65-74', '5-12', '19-24', '75-84', '13-18', '55-64', '19-24',\n",
       "       '5-12', '45-54', '25-34', '5-12', '45-54', '0-4', '19-24', '5-12',\n",
       "       '13-18', '45-54', '25-34', '55-64', '19-24', '25-34', '55-64',\n",
       "       '19-24', '5-12', '35-44', '25-34', '5-12', '55-64', '5-12',\n",
       "       '35-44', '5-12', '5-12', '55-64', '5-12', '5-12', '65-74', '5-12',\n",
       "       '25-34', '0-4', '25-34', '25-34', '55-64', '13-18', '45-54',\n",
       "       '65-74', '5-12', '35-44', '35-44', '25-34', '55-64', '5-12',\n",
       "       '5-12', '5-12', '45-54', '35-44', '5-12', '35-44', '45-54',\n",
       "       '35-44', '19-24', '13-18', '35-44', '35-44', '13-18', '45-54',\n",
       "       '55-64', '19-24', '5-12', '45-54', '35-44', '5-12', '35-44',\n",
       "       '25-34', '5-12', '55-64', '35-44', '55-64', '45-54', '35-44',\n",
       "       '5-12', '13-18', '45-54', '55-64', '0-4', '5-12', '35-44', '5-12',\n",
       "       '65-74', '25-34', '55-64', '0-4', '45-54', '5-12', '35-44', '5-12',\n",
       "       '25-34', '35-44', '0-4', '5-12', '5-12', '13-18', '25-34', '45-54',\n",
       "       '45-54', '45-54', '65-74', '45-54', '25-34', '45-54', '35-44',\n",
       "       '0-4', '45-54', '19-24', '0-4', '13-18', '45-54', '19-24', '35-44',\n",
       "       '5-12', '5-12', '45-54', '5-12', '35-44', '25-34', '13-18',\n",
       "       '65-74', '45-54', '45-54', '25-34', '35-44', '45-54', '19-24',\n",
       "       '0-4', '35-44', '35-44', '5-12', '45-54', '35-44', '5-12', '25-34',\n",
       "       '5-12', '65-74', '35-44', '13-18', '19-24', '19-24', '5-12',\n",
       "       '35-44', '35-44', '55-64', '55-64', '5-12', '35-44', '35-44',\n",
       "       '5-12', '35-44', '45-54', '5-12', '45-54', '25-34', '25-34',\n",
       "       '45-54', '5-12', '13-18', '45-54', '19-24', '0-4', '5-12', '35-44',\n",
       "       '13-18', '13-18', '65-74', '5-12', '25-34', '25-34', '35-44',\n",
       "       '5-12', '25-34', '65-74', '5-12', '75-84', '5-12', '45-54', '5-12',\n",
       "       '19-24', '5-12', '5-12', '19-24', '5-12', '19-24', '45-54', '5-12',\n",
       "       '5-12', '5-12', '55-64', '35-44', '19-24', '65-74', '19-24',\n",
       "       '45-54', '5-12', '45-54', '5-12', '5-12', '5-12', '13-18', '35-44',\n",
       "       '55-64', '35-44', '45-54', '5-12', '5-12', '35-44', '25-34',\n",
       "       '45-54', '5-12', '35-44', '19-24', '25-34', '35-44', '35-44',\n",
       "       '35-44', '19-24', '5-12', '35-44', '25-34', '25-34', '25-34',\n",
       "       '25-34', '13-18', '19-24', '13-18', '5-12', '45-54', '25-34',\n",
       "       '5-12', '5-12', '5-12', '5-12', '19-24', '65-74', '25-34', '35-44',\n",
       "       '5-12', '35-44', '5-12', '35-44', '13-18', '5-12', '5-12', '45-54',\n",
       "       '35-44', '13-18', '5-12', '45-54', '25-34', '0-4', '5-12', '35-44',\n",
       "       '13-18', '5-12', '5-12', '25-34', '65-74', '25-34', '65-74',\n",
       "       '25-34', '35-44', '55-64', '45-54', '65-74', '35-44', '35-44',\n",
       "       '35-44', '45-54', '45-54', '19-24', '5-12', '25-34', '5-12',\n",
       "       '5-12', '19-24', '45-54', '19-24', '35-44', '25-34', '35-44',\n",
       "       '35-44', '35-44', '13-18', '0-4', '25-34', '5-12', '25-34', '5-12',\n",
       "       '5-12', '55-64', '45-54', '45-54', '35-44', '35-44', '25-34',\n",
       "       '45-54', '19-24', '65-74', '35-44', '45-54', '65-74', '45-54',\n",
       "       '5-12', '5-12', '13-18', '5-12', '75-84', '35-44', '75-84', '5-12',\n",
       "       '5-12', '45-54', '13-18', '13-18', '65-74', '35-44', '5-12',\n",
       "       '5-12', '5-12', '55-64', '35-44', '13-18', '55-64', '19-24',\n",
       "       '25-34', '35-44', '45-54', '13-18', '75-84', '55-64', '25-34',\n",
       "       '19-24', '5-12', '65-74', '5-12', '45-54', '25-34', '5-12',\n",
       "       '45-54', '25-34', '25-34', '5-12', '45-54', '0-4', '35-44',\n",
       "       '35-44', '5-12', '75-84', '5-12', '5-12', '35-44', '45-54',\n",
       "       '65-74', '5-12', '45-54', '35-44', '65-74', '55-64', '5-12',\n",
       "       '35-44', '19-24', '0-4', '45-54', '25-34', '45-54', '0-4', '45-54',\n",
       "       '5-12', '35-44', '45-54', '45-54', '55-64', '55-64', '45-54',\n",
       "       '19-24', '35-44', '65-74', '25-34', '13-18', '45-54', '45-54',\n",
       "       '5-12', '25-34', '35-44', '65-74', '45-54', '19-24', '25-34',\n",
       "       '55-64', '5-12', '45-54', '5-12', '5-12', '45-54', '5-12', '55-64',\n",
       "       '55-64', '5-12', '19-24', '5-12', '35-44', '25-34', '5-12',\n",
       "       '45-54', '13-18', '5-12', '45-54', '19-24', '5-12', '55-64',\n",
       "       '25-34', '5-12', '35-44', '45-54', '19-24', '5-12', '5-12',\n",
       "       '25-34', '45-54', '5-12', '35-44', '25-34', '35-44', '45-54',\n",
       "       '25-34', '5-12', '25-34', '25-34', '45-54', '65-74', '55-64',\n",
       "       '19-24', '5-12', '35-44', '5-12', '35-44', '25-34', '55-64',\n",
       "       '35-44', '55-64', '5-12', '35-44', '19-24', '45-54', '45-54',\n",
       "       '0-4', '35-44', '19-24', '65-74', '35-44', '45-54', '45-54',\n",
       "       '13-18', '5-12', '45-54', '65-74', '45-54', '35-44', '35-44',\n",
       "       '19-24'], dtype='<U5')"
      ]
     },
     "execution_count": 9,
     "metadata": {},
     "output_type": "execute_result"
    }
   ],
   "source": [
    "# Generate a random sample from the age_cases array [08]\n",
    "\n",
    "patient_ages = rng.choice(age_groups, size = 1000, p = probabilities)\n",
    "patient_ages"
   ]
  },
  {
   "cell_type": "code",
   "execution_count": 10,
   "id": "a72fdf9f-856d-40ec-bd04-9a1d8bd47917",
   "metadata": {},
   "outputs": [
    {
     "data": {
      "text/html": [
       "<div>\n",
       "<style scoped>\n",
       "    .dataframe tbody tr th:only-of-type {\n",
       "        vertical-align: middle;\n",
       "    }\n",
       "\n",
       "    .dataframe tbody tr th {\n",
       "        vertical-align: top;\n",
       "    }\n",
       "\n",
       "    .dataframe thead th {\n",
       "        text-align: right;\n",
       "    }\n",
       "</style>\n",
       "<table border=\"1\" class=\"dataframe\">\n",
       "  <thead>\n",
       "    <tr style=\"text-align: right;\">\n",
       "      <th></th>\n",
       "      <th>Age Group</th>\n",
       "    </tr>\n",
       "  </thead>\n",
       "  <tbody>\n",
       "    <tr>\n",
       "      <th>0</th>\n",
       "      <td>35-44</td>\n",
       "    </tr>\n",
       "    <tr>\n",
       "      <th>1</th>\n",
       "      <td>13-18</td>\n",
       "    </tr>\n",
       "    <tr>\n",
       "      <th>2</th>\n",
       "      <td>45-54</td>\n",
       "    </tr>\n",
       "    <tr>\n",
       "      <th>3</th>\n",
       "      <td>35-44</td>\n",
       "    </tr>\n",
       "    <tr>\n",
       "      <th>4</th>\n",
       "      <td>35-44</td>\n",
       "    </tr>\n",
       "    <tr>\n",
       "      <th>...</th>\n",
       "      <td>...</td>\n",
       "    </tr>\n",
       "    <tr>\n",
       "      <th>995</th>\n",
       "      <td>65-74</td>\n",
       "    </tr>\n",
       "    <tr>\n",
       "      <th>996</th>\n",
       "      <td>45-54</td>\n",
       "    </tr>\n",
       "    <tr>\n",
       "      <th>997</th>\n",
       "      <td>35-44</td>\n",
       "    </tr>\n",
       "    <tr>\n",
       "      <th>998</th>\n",
       "      <td>35-44</td>\n",
       "    </tr>\n",
       "    <tr>\n",
       "      <th>999</th>\n",
       "      <td>19-24</td>\n",
       "    </tr>\n",
       "  </tbody>\n",
       "</table>\n",
       "<p>1000 rows × 1 columns</p>\n",
       "</div>"
      ],
      "text/plain": [
       "    Age Group\n",
       "0       35-44\n",
       "1       13-18\n",
       "2       45-54\n",
       "3       35-44\n",
       "4       35-44\n",
       "..        ...\n",
       "995     65-74\n",
       "996     45-54\n",
       "997     35-44\n",
       "998     35-44\n",
       "999     19-24\n",
       "\n",
       "[1000 rows x 1 columns]"
      ]
     },
     "execution_count": 10,
     "metadata": {},
     "output_type": "execute_result"
    }
   ],
   "source": [
    "# Put the patient_ages array into a Pandas DataFrame [09]\n",
    "\n",
    "dfcovid = pd.DataFrame(data = patient_ages, columns = ['Age Group'])\n",
    "dfcovid"
   ]
  },
  {
   "cell_type": "code",
   "execution_count": 11,
   "id": "b433c415-63a0-4bab-8fde-58820596740e",
   "metadata": {},
   "outputs": [
    {
     "data": {
      "text/plain": [
       "225"
      ]
     },
     "execution_count": 11,
     "metadata": {},
     "output_type": "execute_result"
    }
   ],
   "source": [
    "# Check the amount of 25-44 year olds in the dataset\n",
    "\n",
    "dfcovid['Age Group'].value_counts()['5-12']"
   ]
  },
  {
   "cell_type": "code",
   "execution_count": 12,
   "id": "b0230446-522e-4836-9383-dee4d03cfa4e",
   "metadata": {},
   "outputs": [],
   "source": [
    "# Convert the age groups to actual ages [10]\n",
    "\n",
    "def actual_ages (x):\n",
    "   if x['Age Group'] == '0-4' :\n",
    "      return rng.integers (0, 5, 1)\n",
    "   elif x['Age Group'] == '5-12' :\n",
    "      return rng.integers (5, 13, 1)\n",
    "   elif x['Age Group'] == '13-18' :\n",
    "      return rng.integers (13, 19, 1)\n",
    "   elif x['Age Group'] == '19-24' :\n",
    "      return rng.integers (19, 25, 1)\n",
    "   elif x['Age Group'] == '25-34' :\n",
    "      return rng.integers (25, 35, 1)\n",
    "   elif x['Age Group'] == '35-44' :\n",
    "      return rng.integers (35, 45, 1)\n",
    "   elif x['Age Group'] == '45-54' :\n",
    "      return rng.integers (45, 56, 1)\n",
    "   elif x['Age Group'] == '55-64' :\n",
    "      return rng.integers (55, 65, 1)\n",
    "   elif x['Age Group'] == '65-74' :\n",
    "      return rng.integers (65, 75, 1)\n",
    "   elif x['Age Group'] == '75-84' :\n",
    "      return rng.integers (75, 85, 1)\n",
    "   else:\n",
    "    return rng.integers (85, 100, 1)"
   ]
  },
  {
   "cell_type": "code",
   "execution_count": 13,
   "id": "da68687c-6cae-4a92-bf63-ff77addc979f",
   "metadata": {},
   "outputs": [
    {
     "data": {
      "text/html": [
       "<div>\n",
       "<style scoped>\n",
       "    .dataframe tbody tr th:only-of-type {\n",
       "        vertical-align: middle;\n",
       "    }\n",
       "\n",
       "    .dataframe tbody tr th {\n",
       "        vertical-align: top;\n",
       "    }\n",
       "\n",
       "    .dataframe thead th {\n",
       "        text-align: right;\n",
       "    }\n",
       "</style>\n",
       "<table border=\"1\" class=\"dataframe\">\n",
       "  <thead>\n",
       "    <tr style=\"text-align: right;\">\n",
       "      <th></th>\n",
       "      <th>Age Group</th>\n",
       "      <th>Age</th>\n",
       "    </tr>\n",
       "  </thead>\n",
       "  <tbody>\n",
       "    <tr>\n",
       "      <th>0</th>\n",
       "      <td>35-44</td>\n",
       "      <td>35</td>\n",
       "    </tr>\n",
       "    <tr>\n",
       "      <th>1</th>\n",
       "      <td>13-18</td>\n",
       "      <td>17</td>\n",
       "    </tr>\n",
       "    <tr>\n",
       "      <th>2</th>\n",
       "      <td>45-54</td>\n",
       "      <td>52</td>\n",
       "    </tr>\n",
       "    <tr>\n",
       "      <th>3</th>\n",
       "      <td>35-44</td>\n",
       "      <td>41</td>\n",
       "    </tr>\n",
       "    <tr>\n",
       "      <th>4</th>\n",
       "      <td>35-44</td>\n",
       "      <td>35</td>\n",
       "    </tr>\n",
       "    <tr>\n",
       "      <th>...</th>\n",
       "      <td>...</td>\n",
       "      <td>...</td>\n",
       "    </tr>\n",
       "    <tr>\n",
       "      <th>995</th>\n",
       "      <td>65-74</td>\n",
       "      <td>66</td>\n",
       "    </tr>\n",
       "    <tr>\n",
       "      <th>996</th>\n",
       "      <td>45-54</td>\n",
       "      <td>45</td>\n",
       "    </tr>\n",
       "    <tr>\n",
       "      <th>997</th>\n",
       "      <td>35-44</td>\n",
       "      <td>44</td>\n",
       "    </tr>\n",
       "    <tr>\n",
       "      <th>998</th>\n",
       "      <td>35-44</td>\n",
       "      <td>38</td>\n",
       "    </tr>\n",
       "    <tr>\n",
       "      <th>999</th>\n",
       "      <td>19-24</td>\n",
       "      <td>21</td>\n",
       "    </tr>\n",
       "  </tbody>\n",
       "</table>\n",
       "<p>1000 rows × 2 columns</p>\n",
       "</div>"
      ],
      "text/plain": [
       "    Age Group  Age\n",
       "0       35-44   35\n",
       "1       13-18   17\n",
       "2       45-54   52\n",
       "3       35-44   41\n",
       "4       35-44   35\n",
       "..        ...  ...\n",
       "995     65-74   66\n",
       "996     45-54   45\n",
       "997     35-44   44\n",
       "998     35-44   38\n",
       "999     19-24   21\n",
       "\n",
       "[1000 rows x 2 columns]"
      ]
     },
     "execution_count": 13,
     "metadata": {},
     "output_type": "execute_result"
    }
   ],
   "source": [
    "# Use pd.DataFrame.apply to add the the actual ages to the dfcovid dataframe\n",
    "# [10], [11], [12], [13]\n",
    "\n",
    "dfcovid['Age'] = dfcovid.apply (lambda x: actual_ages(x), axis = 1)\n",
    "dfcovid['Age'] = dfcovid['Age'].astype(int)\n",
    "dfcovid"
   ]
  },
  {
   "cell_type": "markdown",
   "id": "83f3cbb2-d64e-4a67-a5fb-b7ca78fc3e1e",
   "metadata": {},
   "source": [
    "## Genders"
   ]
  },
  {
   "cell_type": "markdown",
   "id": "003eae17-7552-493f-9330-8eec00effa39",
   "metadata": {},
   "source": [
    "According to the CSO site, around 49% of patients with Covid-19 are female [04]. Below I have used the NumPy Random package to simulate this date and added a column called gender to the dataframe."
   ]
  },
  {
   "cell_type": "code",
   "execution_count": 14,
   "id": "e6126e81-9fbc-413b-81a8-398862964b78",
   "metadata": {},
   "outputs": [
    {
     "data": {
      "text/plain": [
       "0.48889384594670093"
      ]
     },
     "execution_count": 14,
     "metadata": {},
     "output_type": "execute_result"
    }
   ],
   "source": [
    "# Ratio of Male to Female\n",
    "\n",
    "males = 254330\n",
    "females = 243277\n",
    "total = males = females + males\n",
    "\n",
    "ratio_females = females / total\n",
    "ratio_females"
   ]
  },
  {
   "cell_type": "code",
   "execution_count": 15,
   "id": "68e5d82e-8ca0-4c99-bc79-70e1b0e0b4a9",
   "metadata": {},
   "outputs": [],
   "source": [
    "# Use rng.binomial to choose male or female [14]\n",
    "\n",
    "patient_genders_binom = rng.binomial(1, ratio_females, 1000)"
   ]
  },
  {
   "cell_type": "code",
   "execution_count": 16,
   "id": "857b0431-7c52-4d84-8d45-0c07794114a3",
   "metadata": {},
   "outputs": [
    {
     "data": {
      "text/html": [
       "<div>\n",
       "<style scoped>\n",
       "    .dataframe tbody tr th:only-of-type {\n",
       "        vertical-align: middle;\n",
       "    }\n",
       "\n",
       "    .dataframe tbody tr th {\n",
       "        vertical-align: top;\n",
       "    }\n",
       "\n",
       "    .dataframe thead th {\n",
       "        text-align: right;\n",
       "    }\n",
       "</style>\n",
       "<table border=\"1\" class=\"dataframe\">\n",
       "  <thead>\n",
       "    <tr style=\"text-align: right;\">\n",
       "      <th></th>\n",
       "      <th>Age Group</th>\n",
       "      <th>Age</th>\n",
       "      <th>Gender</th>\n",
       "    </tr>\n",
       "  </thead>\n",
       "  <tbody>\n",
       "    <tr>\n",
       "      <th>0</th>\n",
       "      <td>35-44</td>\n",
       "      <td>35</td>\n",
       "      <td>0</td>\n",
       "    </tr>\n",
       "    <tr>\n",
       "      <th>1</th>\n",
       "      <td>13-18</td>\n",
       "      <td>17</td>\n",
       "      <td>0</td>\n",
       "    </tr>\n",
       "    <tr>\n",
       "      <th>2</th>\n",
       "      <td>45-54</td>\n",
       "      <td>52</td>\n",
       "      <td>1</td>\n",
       "    </tr>\n",
       "    <tr>\n",
       "      <th>3</th>\n",
       "      <td>35-44</td>\n",
       "      <td>41</td>\n",
       "      <td>1</td>\n",
       "    </tr>\n",
       "    <tr>\n",
       "      <th>4</th>\n",
       "      <td>35-44</td>\n",
       "      <td>35</td>\n",
       "      <td>0</td>\n",
       "    </tr>\n",
       "    <tr>\n",
       "      <th>...</th>\n",
       "      <td>...</td>\n",
       "      <td>...</td>\n",
       "      <td>...</td>\n",
       "    </tr>\n",
       "    <tr>\n",
       "      <th>995</th>\n",
       "      <td>65-74</td>\n",
       "      <td>66</td>\n",
       "      <td>1</td>\n",
       "    </tr>\n",
       "    <tr>\n",
       "      <th>996</th>\n",
       "      <td>45-54</td>\n",
       "      <td>45</td>\n",
       "      <td>0</td>\n",
       "    </tr>\n",
       "    <tr>\n",
       "      <th>997</th>\n",
       "      <td>35-44</td>\n",
       "      <td>44</td>\n",
       "      <td>1</td>\n",
       "    </tr>\n",
       "    <tr>\n",
       "      <th>998</th>\n",
       "      <td>35-44</td>\n",
       "      <td>38</td>\n",
       "      <td>1</td>\n",
       "    </tr>\n",
       "    <tr>\n",
       "      <th>999</th>\n",
       "      <td>19-24</td>\n",
       "      <td>21</td>\n",
       "      <td>0</td>\n",
       "    </tr>\n",
       "  </tbody>\n",
       "</table>\n",
       "<p>1000 rows × 3 columns</p>\n",
       "</div>"
      ],
      "text/plain": [
       "    Age Group  Age  Gender\n",
       "0       35-44   35       0\n",
       "1       13-18   17       0\n",
       "2       45-54   52       1\n",
       "3       35-44   41       1\n",
       "4       35-44   35       0\n",
       "..        ...  ...     ...\n",
       "995     65-74   66       1\n",
       "996     45-54   45       0\n",
       "997     35-44   44       1\n",
       "998     35-44   38       1\n",
       "999     19-24   21       0\n",
       "\n",
       "[1000 rows x 3 columns]"
      ]
     },
     "execution_count": 16,
     "metadata": {},
     "output_type": "execute_result"
    }
   ],
   "source": [
    "# Declare a the new array patient_genders_binom as a column [15]\n",
    "\n",
    "dfcovid['Gender'] = patient_genders_binom\n",
    "dfcovid"
   ]
  },
  {
   "cell_type": "code",
   "execution_count": 17,
   "id": "bcd11936-8738-4e2f-83b2-3b59da6f0031",
   "metadata": {},
   "outputs": [],
   "source": [
    "# Function to turn the 1's and 0's into Genders [10]\n",
    "\n",
    "def get_genders(x):\n",
    "    if x['Gender'] == 0:\n",
    "        return 'Male'\n",
    "    else:\n",
    "        return 'Female'"
   ]
  },
  {
   "cell_type": "code",
   "execution_count": 18,
   "id": "c1a4f9e3-b109-4b0d-92a3-d52858496c30",
   "metadata": {},
   "outputs": [
    {
     "data": {
      "text/html": [
       "<div>\n",
       "<style scoped>\n",
       "    .dataframe tbody tr th:only-of-type {\n",
       "        vertical-align: middle;\n",
       "    }\n",
       "\n",
       "    .dataframe tbody tr th {\n",
       "        vertical-align: top;\n",
       "    }\n",
       "\n",
       "    .dataframe thead th {\n",
       "        text-align: right;\n",
       "    }\n",
       "</style>\n",
       "<table border=\"1\" class=\"dataframe\">\n",
       "  <thead>\n",
       "    <tr style=\"text-align: right;\">\n",
       "      <th></th>\n",
       "      <th>Age Group</th>\n",
       "      <th>Age</th>\n",
       "      <th>Gender</th>\n",
       "    </tr>\n",
       "  </thead>\n",
       "  <tbody>\n",
       "    <tr>\n",
       "      <th>0</th>\n",
       "      <td>0-4</td>\n",
       "      <td>0</td>\n",
       "      <td>Female</td>\n",
       "    </tr>\n",
       "    <tr>\n",
       "      <th>1</th>\n",
       "      <td>0-4</td>\n",
       "      <td>0</td>\n",
       "      <td>Female</td>\n",
       "    </tr>\n",
       "    <tr>\n",
       "      <th>2</th>\n",
       "      <td>0-4</td>\n",
       "      <td>0</td>\n",
       "      <td>Male</td>\n",
       "    </tr>\n",
       "    <tr>\n",
       "      <th>3</th>\n",
       "      <td>0-4</td>\n",
       "      <td>0</td>\n",
       "      <td>Male</td>\n",
       "    </tr>\n",
       "    <tr>\n",
       "      <th>4</th>\n",
       "      <td>0-4</td>\n",
       "      <td>0</td>\n",
       "      <td>Male</td>\n",
       "    </tr>\n",
       "    <tr>\n",
       "      <th>...</th>\n",
       "      <td>...</td>\n",
       "      <td>...</td>\n",
       "      <td>...</td>\n",
       "    </tr>\n",
       "    <tr>\n",
       "      <th>995</th>\n",
       "      <td>75-84</td>\n",
       "      <td>83</td>\n",
       "      <td>Female</td>\n",
       "    </tr>\n",
       "    <tr>\n",
       "      <th>996</th>\n",
       "      <td>75-84</td>\n",
       "      <td>83</td>\n",
       "      <td>Female</td>\n",
       "    </tr>\n",
       "    <tr>\n",
       "      <th>997</th>\n",
       "      <td>75-84</td>\n",
       "      <td>84</td>\n",
       "      <td>Female</td>\n",
       "    </tr>\n",
       "    <tr>\n",
       "      <th>998</th>\n",
       "      <td>75-84</td>\n",
       "      <td>84</td>\n",
       "      <td>Female</td>\n",
       "    </tr>\n",
       "    <tr>\n",
       "      <th>999</th>\n",
       "      <td>75-84</td>\n",
       "      <td>84</td>\n",
       "      <td>Female</td>\n",
       "    </tr>\n",
       "  </tbody>\n",
       "</table>\n",
       "<p>1000 rows × 3 columns</p>\n",
       "</div>"
      ],
      "text/plain": [
       "    Age Group  Age  Gender\n",
       "0         0-4    0  Female\n",
       "1         0-4    0  Female\n",
       "2         0-4    0    Male\n",
       "3         0-4    0    Male\n",
       "4         0-4    0    Male\n",
       "..        ...  ...     ...\n",
       "995     75-84   83  Female\n",
       "996     75-84   83  Female\n",
       "997     75-84   84  Female\n",
       "998     75-84   84  Female\n",
       "999     75-84   84  Female\n",
       "\n",
       "[1000 rows x 3 columns]"
      ]
     },
     "execution_count": 18,
     "metadata": {},
     "output_type": "execute_result"
    }
   ],
   "source": [
    "# Use pd.DataFrame.apply to add the the genders to the dfcovid dataframe\n",
    "# [10], [11], [12], [13]\n",
    "\n",
    "dfcovid['Gender'] = dfcovid.apply (lambda x: get_genders(x), axis = 1)\n",
    "dfcovid.sort_values(by = ['Age'], inplace = True)\n",
    "dfcovid.reset_index(drop = True, inplace = True)\n",
    "dfcovid"
   ]
  },
  {
   "cell_type": "code",
   "execution_count": 19,
   "id": "84594a24-a69b-4ab1-b89c-db1c38482721",
   "metadata": {},
   "outputs": [
    {
     "data": {
      "text/plain": [
       "537"
      ]
     },
     "execution_count": 19,
     "metadata": {},
     "output_type": "execute_result"
    }
   ],
   "source": [
    "# Check the amount of Males in the dataset\n",
    "\n",
    "dfcovid['Gender'].value_counts()['Male']"
   ]
  },
  {
   "cell_type": "markdown",
   "id": "d028f4ab-ab78-4625-9d60-0161443e1111",
   "metadata": {},
   "source": [
    "Here I have created a pandas dataframe that has an age group for each patient, their actual age and their gender according the the CSO statistics. The next column to create will be whether or not the patients have any underlying conditions."
   ]
  },
  {
   "cell_type": "markdown",
   "id": "c35ca14a-56d7-49c8-89a1-cfcf8ccd086e",
   "metadata": {},
   "source": [
    "## Underlying Health Conditions"
   ]
  },
  {
   "cell_type": "markdown",
   "id": "60f8d2ae-b735-407c-95f9-a6256b656da0",
   "metadata": {},
   "source": [
    "![Underlying Conditions-HSE](img/2021_12_20_16_25_13-underlying_conditions_summary.png)"
   ]
  },
  {
   "cell_type": "code",
   "execution_count": 20,
   "id": "6e039d36-8ff8-42ed-970d-150aff55f795",
   "metadata": {},
   "outputs": [],
   "source": [
    "# Give each individual a probability of having an underlying condition.\n",
    "\n",
    "p_less14 = 0.096\n",
    "p_less24 = 0.138\n",
    "p_less34 = 0.200\n",
    "p_less44 = 0.246\n",
    "p_less54 = 0.336\n",
    "p_less64 = 0.445\n",
    "p_less74 = 0.637\n",
    "p_75plus = 0.824\n",
    "\n",
    "def binomial_uhc (x):\n",
    "   if x['Age'] <= 14:\n",
    "      return rng.binomial (1, p_less14, 1)\n",
    "   elif x['Age'] <= 24:\n",
    "      return rng.binomial (1, p_less24, 1)\n",
    "   elif x['Age'] <= 34: \n",
    "      return rng.binomial (1, p_less34, 1)\n",
    "   elif x['Age'] <= 44: \n",
    "      return rng.binomial (1, p_less44, 1)\n",
    "   elif x['Age'] <= 54: \n",
    "      return rng.binomial (1, p_less54, 1)\n",
    "   elif x['Age'] <= 64: \n",
    "      return rng.binomial (1, p_less64, 1)\n",
    "   elif x['Age'] <= 74: \n",
    "      return rng.binomial (1, p_less74, 1)\n",
    "   else: \n",
    "      return rng.binomial (1, p_75plus, 1)"
   ]
  },
  {
   "cell_type": "code",
   "execution_count": 21,
   "id": "9b0f29af-ae3f-4d56-a162-414c3b6bb435",
   "metadata": {},
   "outputs": [],
   "source": [
    "dfcovid['Underlying Health Condition?'] = dfcovid.apply (lambda x: binomial_uhc(x), axis = 1)\n",
    "dfcovid['Underlying Health Condition?'] = dfcovid['Underlying Health Condition?'].astype(int)"
   ]
  },
  {
   "cell_type": "code",
   "execution_count": 22,
   "id": "93fbc4e4-cdba-495c-ae81-a8acf333295d",
   "metadata": {},
   "outputs": [],
   "source": [
    "# Function to turn the 1's and 0's into Underlying Health Conditions [10]\n",
    "\n",
    "def assign_uhc(x):\n",
    "    if x['Underlying Health Condition?'] == 0:\n",
    "        return 'No'\n",
    "    else:\n",
    "        return 'Yes'"
   ]
  },
  {
   "cell_type": "code",
   "execution_count": 23,
   "id": "1eeae3e4-d111-480d-ba61-62c2cf3c1579",
   "metadata": {},
   "outputs": [
    {
     "data": {
      "text/html": [
       "<div>\n",
       "<style scoped>\n",
       "    .dataframe tbody tr th:only-of-type {\n",
       "        vertical-align: middle;\n",
       "    }\n",
       "\n",
       "    .dataframe tbody tr th {\n",
       "        vertical-align: top;\n",
       "    }\n",
       "\n",
       "    .dataframe thead th {\n",
       "        text-align: right;\n",
       "    }\n",
       "</style>\n",
       "<table border=\"1\" class=\"dataframe\">\n",
       "  <thead>\n",
       "    <tr style=\"text-align: right;\">\n",
       "      <th></th>\n",
       "      <th>Age Group</th>\n",
       "      <th>Age</th>\n",
       "      <th>Gender</th>\n",
       "      <th>Underlying Health Condition?</th>\n",
       "    </tr>\n",
       "  </thead>\n",
       "  <tbody>\n",
       "    <tr>\n",
       "      <th>0</th>\n",
       "      <td>0-4</td>\n",
       "      <td>0</td>\n",
       "      <td>Female</td>\n",
       "      <td>No</td>\n",
       "    </tr>\n",
       "    <tr>\n",
       "      <th>1</th>\n",
       "      <td>0-4</td>\n",
       "      <td>0</td>\n",
       "      <td>Female</td>\n",
       "      <td>No</td>\n",
       "    </tr>\n",
       "    <tr>\n",
       "      <th>2</th>\n",
       "      <td>0-4</td>\n",
       "      <td>0</td>\n",
       "      <td>Male</td>\n",
       "      <td>No</td>\n",
       "    </tr>\n",
       "    <tr>\n",
       "      <th>3</th>\n",
       "      <td>0-4</td>\n",
       "      <td>0</td>\n",
       "      <td>Male</td>\n",
       "      <td>No</td>\n",
       "    </tr>\n",
       "    <tr>\n",
       "      <th>4</th>\n",
       "      <td>0-4</td>\n",
       "      <td>0</td>\n",
       "      <td>Male</td>\n",
       "      <td>No</td>\n",
       "    </tr>\n",
       "    <tr>\n",
       "      <th>...</th>\n",
       "      <td>...</td>\n",
       "      <td>...</td>\n",
       "      <td>...</td>\n",
       "      <td>...</td>\n",
       "    </tr>\n",
       "    <tr>\n",
       "      <th>995</th>\n",
       "      <td>75-84</td>\n",
       "      <td>83</td>\n",
       "      <td>Female</td>\n",
       "      <td>Yes</td>\n",
       "    </tr>\n",
       "    <tr>\n",
       "      <th>996</th>\n",
       "      <td>75-84</td>\n",
       "      <td>83</td>\n",
       "      <td>Female</td>\n",
       "      <td>Yes</td>\n",
       "    </tr>\n",
       "    <tr>\n",
       "      <th>997</th>\n",
       "      <td>75-84</td>\n",
       "      <td>84</td>\n",
       "      <td>Female</td>\n",
       "      <td>Yes</td>\n",
       "    </tr>\n",
       "    <tr>\n",
       "      <th>998</th>\n",
       "      <td>75-84</td>\n",
       "      <td>84</td>\n",
       "      <td>Female</td>\n",
       "      <td>Yes</td>\n",
       "    </tr>\n",
       "    <tr>\n",
       "      <th>999</th>\n",
       "      <td>75-84</td>\n",
       "      <td>84</td>\n",
       "      <td>Female</td>\n",
       "      <td>No</td>\n",
       "    </tr>\n",
       "  </tbody>\n",
       "</table>\n",
       "<p>1000 rows × 4 columns</p>\n",
       "</div>"
      ],
      "text/plain": [
       "    Age Group  Age  Gender Underlying Health Condition?\n",
       "0         0-4    0  Female                           No\n",
       "1         0-4    0  Female                           No\n",
       "2         0-4    0    Male                           No\n",
       "3         0-4    0    Male                           No\n",
       "4         0-4    0    Male                           No\n",
       "..        ...  ...     ...                          ...\n",
       "995     75-84   83  Female                          Yes\n",
       "996     75-84   83  Female                          Yes\n",
       "997     75-84   84  Female                          Yes\n",
       "998     75-84   84  Female                          Yes\n",
       "999     75-84   84  Female                           No\n",
       "\n",
       "[1000 rows x 4 columns]"
      ]
     },
     "execution_count": 23,
     "metadata": {},
     "output_type": "execute_result"
    }
   ],
   "source": [
    "# Use pd.DataFrame.apply to add the the underlying health conditions to the \n",
    "# dfcovid dataframe [10], [11], [12], [13]\n",
    "\n",
    "dfcovid['Underlying Health Condition?'] = dfcovid.apply (lambda x: assign_uhc(x), axis = 1)\n",
    "dfcovid"
   ]
  },
  {
   "cell_type": "markdown",
   "id": "11505793-04be-44e3-8adc-cbf3d3cd1d34",
   "metadata": {},
   "source": [
    "## Vaccination Status"
   ]
  },
  {
   "cell_type": "markdown",
   "id": "6c32ebbc-0c35-4ecb-b54c-2c7fda767740",
   "metadata": {},
   "source": [
    "According to the 'COVID-19 Vaccination Uptake in Ireland Weekly report' by the HSPC, 93% of over 18s are vaccinated and 90.7% of over 12s are vaccinated. This data is from the week ending Sunday 14th November 2021. Below I have made a function to give each individual a probability of being vaccinated. Under 12s will all be assigned a vaccination status of unvaccinated as the role out of vaccines for children has not begun yet."
   ]
  },
  {
   "cell_type": "markdown",
   "id": "fa543503-efa4-4131-a8af-2f0651dfc851",
   "metadata": {},
   "source": [
    "![Vaccination Stats HSPC](img/vaccination_stats_hspc.png)"
   ]
  },
  {
   "cell_type": "code",
   "execution_count": 24,
   "id": "165b4746-d64a-4e9a-821a-4f0f344fe729",
   "metadata": {},
   "outputs": [],
   "source": [
    "# Give each individual a probability of being vaccinated.\n",
    "# [18]\n",
    "p_vaccinated_over_18 = 0.932\n",
    "p_vaccinated_over_12 = 0.910\n",
    "\n",
    "def binomial_vaccinated (x):\n",
    "   if x['Age'] <= 12:\n",
    "      return 0\n",
    "   elif x['Age'] < 18:\n",
    "      return rng.binomial (1, p_vaccinated_over_12, 1)\n",
    "   else: \n",
    "      return rng.binomial (1, p_vaccinated_over_18, 1)"
   ]
  },
  {
   "cell_type": "code",
   "execution_count": 25,
   "id": "d1197b83-8c9d-4a7b-9857-89cceaae2fa4",
   "metadata": {},
   "outputs": [],
   "source": [
    "dfcovid['Vaccination Status'] = dfcovid.apply (lambda x: binomial_vaccinated(x), axis = 1)\n",
    "dfcovid['Vaccination Status'] = dfcovid['Vaccination Status'].astype(int)"
   ]
  },
  {
   "cell_type": "code",
   "execution_count": 26,
   "id": "49165f74-0a9c-43a0-a497-da6b118df6cc",
   "metadata": {},
   "outputs": [],
   "source": [
    "# Function to turn the 1's and 0's into Vaccinations Status [10]\n",
    "\n",
    "def assign_vacstatus(x):\n",
    "    if x['Vaccination Status'] == 0:\n",
    "        return 'Unvaccinated'\n",
    "    else:\n",
    "        return 'Vaccinated'"
   ]
  },
  {
   "cell_type": "code",
   "execution_count": 27,
   "id": "be93fb88-d835-4c26-8a52-d70f1923887a",
   "metadata": {},
   "outputs": [
    {
     "data": {
      "text/html": [
       "<div>\n",
       "<style scoped>\n",
       "    .dataframe tbody tr th:only-of-type {\n",
       "        vertical-align: middle;\n",
       "    }\n",
       "\n",
       "    .dataframe tbody tr th {\n",
       "        vertical-align: top;\n",
       "    }\n",
       "\n",
       "    .dataframe thead th {\n",
       "        text-align: right;\n",
       "    }\n",
       "</style>\n",
       "<table border=\"1\" class=\"dataframe\">\n",
       "  <thead>\n",
       "    <tr style=\"text-align: right;\">\n",
       "      <th></th>\n",
       "      <th>Age Group</th>\n",
       "      <th>Age</th>\n",
       "      <th>Gender</th>\n",
       "      <th>Underlying Health Condition?</th>\n",
       "      <th>Vaccination Status</th>\n",
       "    </tr>\n",
       "  </thead>\n",
       "  <tbody>\n",
       "    <tr>\n",
       "      <th>0</th>\n",
       "      <td>0-4</td>\n",
       "      <td>0</td>\n",
       "      <td>Female</td>\n",
       "      <td>No</td>\n",
       "      <td>Unvaccinated</td>\n",
       "    </tr>\n",
       "    <tr>\n",
       "      <th>1</th>\n",
       "      <td>0-4</td>\n",
       "      <td>0</td>\n",
       "      <td>Female</td>\n",
       "      <td>No</td>\n",
       "      <td>Unvaccinated</td>\n",
       "    </tr>\n",
       "    <tr>\n",
       "      <th>2</th>\n",
       "      <td>0-4</td>\n",
       "      <td>0</td>\n",
       "      <td>Male</td>\n",
       "      <td>No</td>\n",
       "      <td>Unvaccinated</td>\n",
       "    </tr>\n",
       "    <tr>\n",
       "      <th>3</th>\n",
       "      <td>0-4</td>\n",
       "      <td>0</td>\n",
       "      <td>Male</td>\n",
       "      <td>No</td>\n",
       "      <td>Unvaccinated</td>\n",
       "    </tr>\n",
       "    <tr>\n",
       "      <th>4</th>\n",
       "      <td>0-4</td>\n",
       "      <td>0</td>\n",
       "      <td>Male</td>\n",
       "      <td>No</td>\n",
       "      <td>Unvaccinated</td>\n",
       "    </tr>\n",
       "    <tr>\n",
       "      <th>...</th>\n",
       "      <td>...</td>\n",
       "      <td>...</td>\n",
       "      <td>...</td>\n",
       "      <td>...</td>\n",
       "      <td>...</td>\n",
       "    </tr>\n",
       "    <tr>\n",
       "      <th>995</th>\n",
       "      <td>75-84</td>\n",
       "      <td>83</td>\n",
       "      <td>Female</td>\n",
       "      <td>Yes</td>\n",
       "      <td>Unvaccinated</td>\n",
       "    </tr>\n",
       "    <tr>\n",
       "      <th>996</th>\n",
       "      <td>75-84</td>\n",
       "      <td>83</td>\n",
       "      <td>Female</td>\n",
       "      <td>Yes</td>\n",
       "      <td>Vaccinated</td>\n",
       "    </tr>\n",
       "    <tr>\n",
       "      <th>997</th>\n",
       "      <td>75-84</td>\n",
       "      <td>84</td>\n",
       "      <td>Female</td>\n",
       "      <td>Yes</td>\n",
       "      <td>Vaccinated</td>\n",
       "    </tr>\n",
       "    <tr>\n",
       "      <th>998</th>\n",
       "      <td>75-84</td>\n",
       "      <td>84</td>\n",
       "      <td>Female</td>\n",
       "      <td>Yes</td>\n",
       "      <td>Vaccinated</td>\n",
       "    </tr>\n",
       "    <tr>\n",
       "      <th>999</th>\n",
       "      <td>75-84</td>\n",
       "      <td>84</td>\n",
       "      <td>Female</td>\n",
       "      <td>No</td>\n",
       "      <td>Vaccinated</td>\n",
       "    </tr>\n",
       "  </tbody>\n",
       "</table>\n",
       "<p>1000 rows × 5 columns</p>\n",
       "</div>"
      ],
      "text/plain": [
       "    Age Group  Age  Gender Underlying Health Condition? Vaccination Status\n",
       "0         0-4    0  Female                           No       Unvaccinated\n",
       "1         0-4    0  Female                           No       Unvaccinated\n",
       "2         0-4    0    Male                           No       Unvaccinated\n",
       "3         0-4    0    Male                           No       Unvaccinated\n",
       "4         0-4    0    Male                           No       Unvaccinated\n",
       "..        ...  ...     ...                          ...                ...\n",
       "995     75-84   83  Female                          Yes       Unvaccinated\n",
       "996     75-84   83  Female                          Yes         Vaccinated\n",
       "997     75-84   84  Female                          Yes         Vaccinated\n",
       "998     75-84   84  Female                          Yes         Vaccinated\n",
       "999     75-84   84  Female                           No         Vaccinated\n",
       "\n",
       "[1000 rows x 5 columns]"
      ]
     },
     "execution_count": 27,
     "metadata": {},
     "output_type": "execute_result"
    }
   ],
   "source": [
    "# Use pd.DataFrame.apply to add the the underlying health conditions to the \n",
    "# dfcovid dataframe [10], [11], [12], [13]\n",
    "\n",
    "dfcovid['Vaccination Status'] = dfcovid.apply (lambda x: assign_vacstatus(x), axis = 1)\n",
    "dfcovid"
   ]
  },
  {
   "cell_type": "code",
   "execution_count": 28,
   "id": "71816802-01c0-4431-ad51-74e167e948a9",
   "metadata": {},
   "outputs": [
    {
     "data": {
      "text/plain": [
       "679"
      ]
     },
     "execution_count": 28,
     "metadata": {},
     "output_type": "execute_result"
    }
   ],
   "source": [
    "dfcovid['Vaccination Status'].value_counts()['Vaccinated']"
   ]
  },
  {
   "cell_type": "markdown",
   "id": "6e4530be-c759-4eac-9628-025d19a0fff2",
   "metadata": {},
   "source": [
    "## Hospitalised"
   ]
  },
  {
   "cell_type": "markdown",
   "id": "6abd87f4-59a1-4449-8653-1ebbad299466",
   "metadata": {},
   "source": [
    "Below are the statistics according to the HSE on the number of confirmed COVID-19 cases in Ireland from 10/12/2021 up to midnight on 23/12/2021. This shows us the percentages of people admitted to hospital and I will use these statistics to generate a new column in the dataset of whether or not the patient was admitted to hospital. I wanted to give the patients a higher probability of being hospitalised if they were unvaccinated, but I could not find enough data to do this. I instead subtracted half of the probability from the patient if they were vaccinated and added half the probability to the patient if they were unvaccinated. This was just to show that there is a correlation between hospitalisations and being vaccinated. Since this is a simulated dataset, the actual numbers can always be changed at a later stage."
   ]
  },
  {
   "cell_type": "markdown",
   "id": "3005be97-9876-49d8-b977-c7b3cb887019",
   "metadata": {},
   "source": [
    "![Epidemiology of COVID-19 in Ireland - 14 day report - HSE](img/epidemiology_of_covid-19_in_ireland_14_day_report.png)"
   ]
  },
  {
   "cell_type": "code",
   "execution_count": 29,
   "id": "9b6320af-f127-46af-9702-d2aafbc517a4",
   "metadata": {},
   "outputs": [],
   "source": [
    "# Probabilities for vaccinated patients\n",
    "\n",
    "p_vacc_less4 = 0.038 - (0.038/2)\n",
    "p_vacc_less12 = 0.049 - (0.049/2)\n",
    "p_vacc_less18 = 0.023 - (0.023/2)\n",
    "p_vacc_less24 = 0.051 - (0.051/2)\n",
    "p_vacc_less34 = 0.134 - (0.134/2)\n",
    "p_vacc_less44 = 0.146 - (0.146/2)\n",
    "p_vacc_less54 = 0.116 - (0.116/2)\n",
    "p_vacc_less64 = 0.128 - (0.128/2)\n",
    "p_vacc_less74 = 0.13 - (0.13/2)\n",
    "p_vacc_less84 = 0.087 - (0.087/2)\n",
    "p_vacc_85plus = 0.099 - (0.099/2)\n",
    "\n",
    "# Probabilities for unvaccinated patients\n",
    "p_unvacc_less4 = 0.038 + (0.038/2)\n",
    "p_unvacc_less12 = 0.049 + (0.049/2)\n",
    "p_unvacc_less18 = 0.023 + (0.023/2)\n",
    "p_unvacc_less24 = 0.051 + (0.051/2)\n",
    "p_unvacc_less34 = 0.134 + (0.134/2)\n",
    "p_unvacc_less44 = 0.146 + (0.146/2)\n",
    "p_unvacc_less54 = 0.116 + (0.116/2)\n",
    "p_unvacc_less64 = 0.128 + (0.128/2)\n",
    "p_unvacc_less74 = 0.13 + (0.13/2)\n",
    "p_unvacc_less84 = 0.087 + (0.087/2)\n",
    "p_unvacc_85plus = 0.099 + (0.099/2)\n",
    "\n",
    "def binomial_hospitalised(x):\n",
    "   if x['Vaccination Status'] == 'Vaccinated':\n",
    "      if x['Age'] <= 4:\n",
    "        return rng.binomial(1, p_vacc_less4, 1)\n",
    "      elif x['Age'] <= 12:\n",
    "        return rng.binomial(1, p_vacc_less12, 1)\n",
    "      elif x['Age'] <= 18:\n",
    "        return rng.binomial(1, p_vacc_less18, 1)\n",
    "      elif x['Age'] <= 24:\n",
    "        return rng.binomial(1, p_vacc_less24, 1)\n",
    "      elif x['Age'] <= 34:\n",
    "        return rng.binomial(1, p_vacc_less34, 1)\n",
    "      elif x['Age'] <= 44:\n",
    "        return rng.binomial(1, p_vacc_less44, 1)\n",
    "      elif x['Age'] <= 54:\n",
    "        return rng.binomial(1, p_vacc_less54, 1)\n",
    "      elif x['Age'] <= 64:\n",
    "        return rng.binomial(1, p_vacc_less64, 1)\n",
    "      elif x['Age'] <= 74:\n",
    "        return rng.binomial(1, p_vacc_less74, 1)\n",
    "      elif x['Age'] <= 84:\n",
    "        return rng.binomial(1, p_vacc_less84, 1)\n",
    "      else:\n",
    "        return rng.binomial(1, p_vacc_85plus, 1)\n",
    "   else:\n",
    "      if x['Age'] <= 4:\n",
    "        return rng.binomial (1, p_unvacc_less4, 1)\n",
    "      elif x['Age'] <= 12:\n",
    "        return rng.binomial(1, p_unvacc_less12, 1)\n",
    "      elif x['Age'] <= 18:\n",
    "        return rng.binomial(1, p_unvacc_less18, 1)  \n",
    "      elif x['Age'] <= 24:\n",
    "        return rng.binomial(1, p_unvacc_less24, 1)  \n",
    "      elif x['Age'] <= 34:\n",
    "        return rng.binomial(1, p_unvacc_less34, 1)  \n",
    "      elif x['Age'] <= 44:\n",
    "        return rng.binomial(1, p_unvacc_less44, 1)  \n",
    "      elif x['Age'] <= 54:\n",
    "        return rng.binomial(1, p_unvacc_less54, 1)  \n",
    "      elif x['Age'] <= 64:\n",
    "        return rng.binomial(1, p_unvacc_less64, 1)\n",
    "      elif x['Age'] <= 74:\n",
    "        return rng.binomial(1, p_unvacc_less74, 1)  \n",
    "      elif x['Age'] <= 84:\n",
    "        return rng.binomial(1, p_unvacc_less84, 1)\n",
    "      else:\n",
    "        return rng.binomial(1, p_unvacc_85plus, 1)"
   ]
  },
  {
   "cell_type": "code",
   "execution_count": 30,
   "id": "9437778f-90ed-473f-b3fa-85299b831d0b",
   "metadata": {},
   "outputs": [],
   "source": [
    "dfcovid['Hospitalised?'] = dfcovid.apply (lambda x: binomial_hospitalised(x), axis = 1)\n",
    "dfcovid['Hospitalised?'] = dfcovid['Hospitalised?'].astype(int)"
   ]
  },
  {
   "cell_type": "code",
   "execution_count": 31,
   "id": "a9767f35-fcf8-4f4d-8168-347eb28b6fc5",
   "metadata": {},
   "outputs": [],
   "source": [
    "# Function to turn the 1's and 0's into Hospitalisation Status [10]\n",
    "\n",
    "def assign_hosstatus(x):\n",
    "    if x['Hospitalised?'] == 0:\n",
    "        return 'No'\n",
    "    else:\n",
    "        return 'Yes'"
   ]
  },
  {
   "cell_type": "code",
   "execution_count": 32,
   "id": "ce351088-735e-4bf5-83db-82f2a4c8f68b",
   "metadata": {},
   "outputs": [
    {
     "data": {
      "text/html": [
       "<div>\n",
       "<style scoped>\n",
       "    .dataframe tbody tr th:only-of-type {\n",
       "        vertical-align: middle;\n",
       "    }\n",
       "\n",
       "    .dataframe tbody tr th {\n",
       "        vertical-align: top;\n",
       "    }\n",
       "\n",
       "    .dataframe thead th {\n",
       "        text-align: right;\n",
       "    }\n",
       "</style>\n",
       "<table border=\"1\" class=\"dataframe\">\n",
       "  <thead>\n",
       "    <tr style=\"text-align: right;\">\n",
       "      <th></th>\n",
       "      <th>Age Group</th>\n",
       "      <th>Age</th>\n",
       "      <th>Gender</th>\n",
       "      <th>Underlying Health Condition?</th>\n",
       "      <th>Vaccination Status</th>\n",
       "      <th>Hospitalised?</th>\n",
       "    </tr>\n",
       "  </thead>\n",
       "  <tbody>\n",
       "    <tr>\n",
       "      <th>0</th>\n",
       "      <td>0-4</td>\n",
       "      <td>0</td>\n",
       "      <td>Female</td>\n",
       "      <td>No</td>\n",
       "      <td>Unvaccinated</td>\n",
       "      <td>No</td>\n",
       "    </tr>\n",
       "    <tr>\n",
       "      <th>1</th>\n",
       "      <td>0-4</td>\n",
       "      <td>0</td>\n",
       "      <td>Female</td>\n",
       "      <td>No</td>\n",
       "      <td>Unvaccinated</td>\n",
       "      <td>Yes</td>\n",
       "    </tr>\n",
       "    <tr>\n",
       "      <th>2</th>\n",
       "      <td>0-4</td>\n",
       "      <td>0</td>\n",
       "      <td>Male</td>\n",
       "      <td>No</td>\n",
       "      <td>Unvaccinated</td>\n",
       "      <td>No</td>\n",
       "    </tr>\n",
       "    <tr>\n",
       "      <th>3</th>\n",
       "      <td>0-4</td>\n",
       "      <td>0</td>\n",
       "      <td>Male</td>\n",
       "      <td>No</td>\n",
       "      <td>Unvaccinated</td>\n",
       "      <td>No</td>\n",
       "    </tr>\n",
       "    <tr>\n",
       "      <th>4</th>\n",
       "      <td>0-4</td>\n",
       "      <td>0</td>\n",
       "      <td>Male</td>\n",
       "      <td>No</td>\n",
       "      <td>Unvaccinated</td>\n",
       "      <td>No</td>\n",
       "    </tr>\n",
       "    <tr>\n",
       "      <th>...</th>\n",
       "      <td>...</td>\n",
       "      <td>...</td>\n",
       "      <td>...</td>\n",
       "      <td>...</td>\n",
       "      <td>...</td>\n",
       "      <td>...</td>\n",
       "    </tr>\n",
       "    <tr>\n",
       "      <th>995</th>\n",
       "      <td>75-84</td>\n",
       "      <td>83</td>\n",
       "      <td>Female</td>\n",
       "      <td>Yes</td>\n",
       "      <td>Unvaccinated</td>\n",
       "      <td>Yes</td>\n",
       "    </tr>\n",
       "    <tr>\n",
       "      <th>996</th>\n",
       "      <td>75-84</td>\n",
       "      <td>83</td>\n",
       "      <td>Female</td>\n",
       "      <td>Yes</td>\n",
       "      <td>Vaccinated</td>\n",
       "      <td>No</td>\n",
       "    </tr>\n",
       "    <tr>\n",
       "      <th>997</th>\n",
       "      <td>75-84</td>\n",
       "      <td>84</td>\n",
       "      <td>Female</td>\n",
       "      <td>Yes</td>\n",
       "      <td>Vaccinated</td>\n",
       "      <td>No</td>\n",
       "    </tr>\n",
       "    <tr>\n",
       "      <th>998</th>\n",
       "      <td>75-84</td>\n",
       "      <td>84</td>\n",
       "      <td>Female</td>\n",
       "      <td>Yes</td>\n",
       "      <td>Vaccinated</td>\n",
       "      <td>No</td>\n",
       "    </tr>\n",
       "    <tr>\n",
       "      <th>999</th>\n",
       "      <td>75-84</td>\n",
       "      <td>84</td>\n",
       "      <td>Female</td>\n",
       "      <td>No</td>\n",
       "      <td>Vaccinated</td>\n",
       "      <td>No</td>\n",
       "    </tr>\n",
       "  </tbody>\n",
       "</table>\n",
       "<p>1000 rows × 6 columns</p>\n",
       "</div>"
      ],
      "text/plain": [
       "    Age Group  Age  Gender Underlying Health Condition? Vaccination Status  \\\n",
       "0         0-4    0  Female                           No       Unvaccinated   \n",
       "1         0-4    0  Female                           No       Unvaccinated   \n",
       "2         0-4    0    Male                           No       Unvaccinated   \n",
       "3         0-4    0    Male                           No       Unvaccinated   \n",
       "4         0-4    0    Male                           No       Unvaccinated   \n",
       "..        ...  ...     ...                          ...                ...   \n",
       "995     75-84   83  Female                          Yes       Unvaccinated   \n",
       "996     75-84   83  Female                          Yes         Vaccinated   \n",
       "997     75-84   84  Female                          Yes         Vaccinated   \n",
       "998     75-84   84  Female                          Yes         Vaccinated   \n",
       "999     75-84   84  Female                           No         Vaccinated   \n",
       "\n",
       "    Hospitalised?  \n",
       "0              No  \n",
       "1             Yes  \n",
       "2              No  \n",
       "3              No  \n",
       "4              No  \n",
       "..            ...  \n",
       "995           Yes  \n",
       "996            No  \n",
       "997            No  \n",
       "998            No  \n",
       "999            No  \n",
       "\n",
       "[1000 rows x 6 columns]"
      ]
     },
     "execution_count": 32,
     "metadata": {},
     "output_type": "execute_result"
    }
   ],
   "source": [
    "# Use pd.DataFrame.apply to add the underlying health conditions to the \n",
    "# dfcovid dataframe [10], [11], [12], [13]\n",
    "\n",
    "dfcovid['Hospitalised?'] = dfcovid.apply (lambda x: assign_hosstatus(x), axis = 1)\n",
    "dfcovid"
   ]
  },
  {
   "cell_type": "code",
   "execution_count": 33,
   "id": "08308280-7fe7-4c87-90b2-1f3f9dc3f0c6",
   "metadata": {},
   "outputs": [
    {
     "data": {
      "text/plain": [
       "63"
      ]
     },
     "execution_count": 33,
     "metadata": {},
     "output_type": "execute_result"
    }
   ],
   "source": [
    "# Total number of Hostpitalisations\n",
    "\n",
    "dfcovid['Hospitalised?'].value_counts()['Yes']"
   ]
  },
  {
   "cell_type": "code",
   "execution_count": 34,
   "id": "115c3766-b335-48b7-b742-527f4fe43749",
   "metadata": {},
   "outputs": [
    {
     "name": "stdout",
     "output_type": "stream",
     "text": [
      "The Percentage of patients being hospitalised by COVID-19 in this \n",
      "      dataset is 6.3%\n"
     ]
    }
   ],
   "source": [
    "print(f'''The Percentage of patients being hospitalised by COVID-19 in this \n",
    "      dataset is {get_percent(dfcovid['Hospitalised?'].value_counts()['Yes'], 1000)}%''')"
   ]
  },
  {
   "cell_type": "markdown",
   "id": "cf593bf3-6c46-4c84-83de-f143aedb1cec",
   "metadata": {},
   "source": [
    "According to the HSE, 554 patients of the total 70637 were hospitalised which works out to 0.78%. Our numbers are different, but this is because the patients age distribution is different as I have used different numbers from different sources for the distribution of ages."
   ]
  },
  {
   "cell_type": "code",
   "execution_count": 35,
   "id": "9e8fa2eb-d5ae-4522-b347-cdfd07396c67",
   "metadata": {},
   "outputs": [
    {
     "name": "stdout",
     "output_type": "stream",
     "text": [
      "The total percentage of Hostpitalisations according to the HSE is 0.84%\n"
     ]
    }
   ],
   "source": [
    "# Total percentage of Hostpitalisations according to the HSE\n",
    "\n",
    "total_cases_hse = 64780\n",
    "total_hospitalisations = 545\n",
    "\n",
    "percent = get_percent(total_hospitalisations, total_cases_hse)\n",
    "print(f\"The total percentage of Hostpitalisations according to the HSE is {round(percent, 2)}%\")"
   ]
  },
  {
   "cell_type": "markdown",
   "id": "fc7cc964-c0a7-4373-a647-35a3242a3972",
   "metadata": {},
   "source": [
    "## ICU Admission"
   ]
  },
  {
   "cell_type": "markdown",
   "id": "811667c5-215c-4cda-9487-a43ddcbc1d2e",
   "metadata": {},
   "source": [
    "I used the same HSE report for the data on patients admitted to ICU as I did for the 'Hospitalisations' section. In the HPSC report 'Epidemiology of intensive care admissions in cases (aged 15 years and older) of COVID-19 in Ireland' that was carried out on 14.12.2021 (data from 27.06.2021 to midnight 11.12.2021), we can see that 80.1% of people admitted to ICU had underlying health conditions. For this reason, I created an If function that used the percentages below to assign the patients an ICU status, but if they had an underlying health condition, they would get 80.1% of the probability and if they did not have an underlying health condition, then they would get the remaining 19.9% of the probability."
   ]
  },
  {
   "cell_type": "markdown",
   "id": "8d4a7d14-ab9d-4137-8e6f-9d38808cbe30",
   "metadata": {},
   "source": [
    "![Epidemiology of COVID-19 in Ireland - 14 day report - HSE](img/epidemiology_of_covid-19_in_ireland_14_day_report.png)"
   ]
  },
  {
   "cell_type": "markdown",
   "id": "256830a1-f097-410c-a837-5eb907b93bb7",
   "metadata": {},
   "source": [
    "![Underlying Health Conditions - HSE](img/hse_underlying_health_conditions.png)"
   ]
  },
  {
   "cell_type": "code",
   "execution_count": 36,
   "id": "dc982184-7405-4c1e-8255-2e7f1272aef7",
   "metadata": {},
   "outputs": [],
   "source": [
    "# Give each individual a probability of being admitted to ICU.\n",
    "\n",
    "#[19] [20]\n",
    "\n",
    "# Probabilities for patients with underlying health conditions.\n",
    "\n",
    "p_uhc_less24 = (0.024 / 100) * 80.1\n",
    "p_uhc_less34 = (0.085 / 100) * 80.1\n",
    "p_uhc_less44 = (0.133 / 100) * 80.1\n",
    "p_uhc_less54 = (0.19 / 100) * 80.1\n",
    "p_uhc_less64 = (0.185 / 100) * 80.1\n",
    "p_uhc_less74 = (0.282 / 100) * 80.1\n",
    "p_uhc_less84 = (0.094 / 100) * 80.1\n",
    "p_uhc_85plus = (0.008 / 100) * 80.1\n",
    "\n",
    "# Probabilities for patients without underlying health conditions.\n",
    "\n",
    "p_nouhc_less24 = (0.024 / 100) * 19.9\n",
    "p_nouhc_less34 = (0.085  / 100) * 19.9\n",
    "p_nouhc_less44 = (0.133 / 100) * 19.9\n",
    "p_nouhc_less54 = (0.19 / 100) * 19.9\n",
    "p_nouhc_less64 = (0.185 / 100) * 19.9\n",
    "p_nouhc_less74 = (0.282 / 100) * 19.9\n",
    "p_nouhc_less84 = (0.094 / 100) * 19.9\n",
    "p_nouhc_85plus = (0.008 / 100) * 19.9\n",
    "\n",
    "def binomial_icu(x):\n",
    "    if x['Hospitalised?'] == 'Yes':\n",
    "        if x['Underlying Health Condition?'] == 'Yes':\n",
    "            if x['Age'] <= 15:\n",
    "                return 0\n",
    "            elif x['Age'] <= 24:\n",
    "                return rng.binomial(1, p_uhc_less24, 1)\n",
    "            elif x['Age'] <= 34:\n",
    "                return rng.binomial(1, p_uhc_less34, 1)\n",
    "            elif x['Age'] <= 44:\n",
    "                return rng.binomial(1, p_uhc_less44, 1)\n",
    "            elif x['Age'] <= 54:\n",
    "                return rng.binomial(1, p_uhc_less54, 1)\n",
    "            elif x['Age'] <= 64:\n",
    "                return rng.binomial(1, p_uhc_less64, 1)\n",
    "            elif x['Age'] <= 74:\n",
    "                return rng.binomial(1, p_uhc_less74, 1)\n",
    "            elif x['Age'] <= 84:\n",
    "                return rng.binomial(1, p_uhc_less84, 1)\n",
    "            else:\n",
    "                return rng.binomial(1, p_uhc_85plus, 1)\n",
    "        else:\n",
    "            if x['Age'] <= 15:\n",
    "                return rng.binomial(1, 0, 1)\n",
    "            elif x['Age'] <= 24:\n",
    "                return rng.binomial(1, p_nouhc_less24, 1)\n",
    "            elif x['Age'] <= 34:\n",
    "                return rng.binomial(1, p_nouhc_less34, 1)\n",
    "            elif x['Age'] <= 44:\n",
    "                return rng.binomial(1, p_nouhc_less44, 1)\n",
    "            elif x['Age'] <= 54:\n",
    "                return rng.binomial(1, p_nouhc_less54, 1)\n",
    "            elif x['Age'] <= 64:\n",
    "                return rng.binomial(1, p_nouhc_less64, 1)\n",
    "            elif x['Age'] <= 74:\n",
    "                return rng.binomial(1, p_nouhc_less74, 1)\n",
    "            elif x['Age'] <= 84:\n",
    "                return rng.binomial(1, p_nouhc_less84, 1)\n",
    "            else:\n",
    "                return rng.binomial(1, p_nouhc_85plus, 1)            \n",
    "    else:\n",
    "        return 0"
   ]
  },
  {
   "cell_type": "code",
   "execution_count": 37,
   "id": "7e07b98a-6e3c-42bc-bb3a-66872861dfc6",
   "metadata": {},
   "outputs": [],
   "source": [
    "dfcovid['ICU?'] = dfcovid.apply (lambda x: binomial_icu(x), axis = 1)\n",
    "dfcovid['ICU?'] = dfcovid['ICU?'].astype(int)"
   ]
  },
  {
   "cell_type": "code",
   "execution_count": 38,
   "id": "e3923c64-257d-422b-8c22-cbcc01bbc305",
   "metadata": {},
   "outputs": [],
   "source": [
    "# Function to turn the 1's and 0's into ICU Status [10]\n",
    "\n",
    "def assign_icustatus(x):\n",
    "    if x['ICU?'] == 0:\n",
    "        return 'No'\n",
    "    else:\n",
    "        return 'Yes'"
   ]
  },
  {
   "cell_type": "code",
   "execution_count": 39,
   "id": "2b511d69-ff00-4a54-b0ff-99b585e3d1c9",
   "metadata": {},
   "outputs": [
    {
     "data": {
      "text/html": [
       "<div>\n",
       "<style scoped>\n",
       "    .dataframe tbody tr th:only-of-type {\n",
       "        vertical-align: middle;\n",
       "    }\n",
       "\n",
       "    .dataframe tbody tr th {\n",
       "        vertical-align: top;\n",
       "    }\n",
       "\n",
       "    .dataframe thead th {\n",
       "        text-align: right;\n",
       "    }\n",
       "</style>\n",
       "<table border=\"1\" class=\"dataframe\">\n",
       "  <thead>\n",
       "    <tr style=\"text-align: right;\">\n",
       "      <th></th>\n",
       "      <th>Age Group</th>\n",
       "      <th>Age</th>\n",
       "      <th>Gender</th>\n",
       "      <th>Underlying Health Condition?</th>\n",
       "      <th>Vaccination Status</th>\n",
       "      <th>Hospitalised?</th>\n",
       "      <th>ICU?</th>\n",
       "    </tr>\n",
       "  </thead>\n",
       "  <tbody>\n",
       "    <tr>\n",
       "      <th>0</th>\n",
       "      <td>0-4</td>\n",
       "      <td>0</td>\n",
       "      <td>Female</td>\n",
       "      <td>No</td>\n",
       "      <td>Unvaccinated</td>\n",
       "      <td>No</td>\n",
       "      <td>No</td>\n",
       "    </tr>\n",
       "    <tr>\n",
       "      <th>1</th>\n",
       "      <td>0-4</td>\n",
       "      <td>0</td>\n",
       "      <td>Female</td>\n",
       "      <td>No</td>\n",
       "      <td>Unvaccinated</td>\n",
       "      <td>Yes</td>\n",
       "      <td>No</td>\n",
       "    </tr>\n",
       "    <tr>\n",
       "      <th>2</th>\n",
       "      <td>0-4</td>\n",
       "      <td>0</td>\n",
       "      <td>Male</td>\n",
       "      <td>No</td>\n",
       "      <td>Unvaccinated</td>\n",
       "      <td>No</td>\n",
       "      <td>No</td>\n",
       "    </tr>\n",
       "    <tr>\n",
       "      <th>3</th>\n",
       "      <td>0-4</td>\n",
       "      <td>0</td>\n",
       "      <td>Male</td>\n",
       "      <td>No</td>\n",
       "      <td>Unvaccinated</td>\n",
       "      <td>No</td>\n",
       "      <td>No</td>\n",
       "    </tr>\n",
       "    <tr>\n",
       "      <th>4</th>\n",
       "      <td>0-4</td>\n",
       "      <td>0</td>\n",
       "      <td>Male</td>\n",
       "      <td>No</td>\n",
       "      <td>Unvaccinated</td>\n",
       "      <td>No</td>\n",
       "      <td>No</td>\n",
       "    </tr>\n",
       "    <tr>\n",
       "      <th>...</th>\n",
       "      <td>...</td>\n",
       "      <td>...</td>\n",
       "      <td>...</td>\n",
       "      <td>...</td>\n",
       "      <td>...</td>\n",
       "      <td>...</td>\n",
       "      <td>...</td>\n",
       "    </tr>\n",
       "    <tr>\n",
       "      <th>995</th>\n",
       "      <td>75-84</td>\n",
       "      <td>83</td>\n",
       "      <td>Female</td>\n",
       "      <td>Yes</td>\n",
       "      <td>Unvaccinated</td>\n",
       "      <td>Yes</td>\n",
       "      <td>No</td>\n",
       "    </tr>\n",
       "    <tr>\n",
       "      <th>996</th>\n",
       "      <td>75-84</td>\n",
       "      <td>83</td>\n",
       "      <td>Female</td>\n",
       "      <td>Yes</td>\n",
       "      <td>Vaccinated</td>\n",
       "      <td>No</td>\n",
       "      <td>No</td>\n",
       "    </tr>\n",
       "    <tr>\n",
       "      <th>997</th>\n",
       "      <td>75-84</td>\n",
       "      <td>84</td>\n",
       "      <td>Female</td>\n",
       "      <td>Yes</td>\n",
       "      <td>Vaccinated</td>\n",
       "      <td>No</td>\n",
       "      <td>No</td>\n",
       "    </tr>\n",
       "    <tr>\n",
       "      <th>998</th>\n",
       "      <td>75-84</td>\n",
       "      <td>84</td>\n",
       "      <td>Female</td>\n",
       "      <td>Yes</td>\n",
       "      <td>Vaccinated</td>\n",
       "      <td>No</td>\n",
       "      <td>No</td>\n",
       "    </tr>\n",
       "    <tr>\n",
       "      <th>999</th>\n",
       "      <td>75-84</td>\n",
       "      <td>84</td>\n",
       "      <td>Female</td>\n",
       "      <td>No</td>\n",
       "      <td>Vaccinated</td>\n",
       "      <td>No</td>\n",
       "      <td>No</td>\n",
       "    </tr>\n",
       "  </tbody>\n",
       "</table>\n",
       "<p>1000 rows × 7 columns</p>\n",
       "</div>"
      ],
      "text/plain": [
       "    Age Group  Age  Gender Underlying Health Condition? Vaccination Status  \\\n",
       "0         0-4    0  Female                           No       Unvaccinated   \n",
       "1         0-4    0  Female                           No       Unvaccinated   \n",
       "2         0-4    0    Male                           No       Unvaccinated   \n",
       "3         0-4    0    Male                           No       Unvaccinated   \n",
       "4         0-4    0    Male                           No       Unvaccinated   \n",
       "..        ...  ...     ...                          ...                ...   \n",
       "995     75-84   83  Female                          Yes       Unvaccinated   \n",
       "996     75-84   83  Female                          Yes         Vaccinated   \n",
       "997     75-84   84  Female                          Yes         Vaccinated   \n",
       "998     75-84   84  Female                          Yes         Vaccinated   \n",
       "999     75-84   84  Female                           No         Vaccinated   \n",
       "\n",
       "    Hospitalised? ICU?  \n",
       "0              No   No  \n",
       "1             Yes   No  \n",
       "2              No   No  \n",
       "3              No   No  \n",
       "4              No   No  \n",
       "..            ...  ...  \n",
       "995           Yes   No  \n",
       "996            No   No  \n",
       "997            No   No  \n",
       "998            No   No  \n",
       "999            No   No  \n",
       "\n",
       "[1000 rows x 7 columns]"
      ]
     },
     "execution_count": 39,
     "metadata": {},
     "output_type": "execute_result"
    }
   ],
   "source": [
    "# Use pd.DataFrame.apply to add the underlying health conditions to the \n",
    "# dfcovid dataframe [10], [11], [12], [13]\n",
    "\n",
    "dfcovid['ICU?'] = dfcovid.apply (lambda x: assign_icustatus(x), axis = 1)\n",
    "dfcovid"
   ]
  },
  {
   "cell_type": "code",
   "execution_count": 40,
   "id": "44c809f7-f78f-4d5b-9dd1-ea8827199896",
   "metadata": {},
   "outputs": [
    {
     "data": {
      "text/plain": [
       "3"
      ]
     },
     "execution_count": 40,
     "metadata": {},
     "output_type": "execute_result"
    }
   ],
   "source": [
    "# Total number of ICU admissions\n",
    "\n",
    "dfcovid['ICU?'].value_counts()['Yes']"
   ]
  },
  {
   "cell_type": "code",
   "execution_count": 41,
   "id": "94e24e04-254f-4bbd-acb3-f4ad14c11f8c",
   "metadata": {},
   "outputs": [
    {
     "name": "stdout",
     "output_type": "stream",
     "text": [
      "The Percentage of patients being admitted to ICU by COVID-19 in this \n",
      "      dataset is 0.3%\n"
     ]
    }
   ],
   "source": [
    "print(f'''The Percentage of patients being admitted to ICU by COVID-19 in this \n",
    "      dataset is {get_percent(dfcovid['ICU?'].value_counts()['Yes'], 1000)}%''')"
   ]
  },
  {
   "cell_type": "markdown",
   "id": "88aa8d79-2e2d-4906-9343-841c8e121feb",
   "metadata": {},
   "source": [
    "According to the HSE, 27 patients of the total 70637 were hospitalised which works out to 0.04%. Our numbers are different, but this is because the patients age distribution is different as I have used different numbers from different sources for the distribution of ages."
   ]
  },
  {
   "cell_type": "markdown",
   "id": "efe895a5-4430-4bd5-a5f6-652a937cac56",
   "metadata": {},
   "source": [
    "## Plots"
   ]
  },
  {
   "cell_type": "code",
   "execution_count": 42,
   "id": "00f5553b-8a40-49ab-924a-4c27102ff5fc",
   "metadata": {},
   "outputs": [
    {
     "data": {
      "text/plain": [
       "<AxesSubplot:xlabel='Age Group', ylabel='count'>"
      ]
     },
     "execution_count": 42,
     "metadata": {},
     "output_type": "execute_result"
    },
    {
     "data": {
      "image/png": "[encoded data removed]",
      "text/plain": [
       "<Figure size 720x432 with 1 Axes>"
      ]
     },
     "metadata": {},
     "output_type": "display_data"
    }
   ],
   "source": [
    "# Check the amount of underlying health conditions for the age group 15-24 in the dataset\n",
    "\n",
    "sns.countplot(x = 'Age Group', data = dfcovid, palette = 'flare',\n",
    "             lw=4, ec='black', capsize=0.1)"
   ]
  },
  {
   "cell_type": "code",
   "execution_count": 43,
   "id": "87fe9c84-1a4a-45e7-b25c-5606ec3eb8a1",
   "metadata": {},
   "outputs": [
    {
     "data": {
      "text/plain": [
       "<AxesSubplot:xlabel='Age Group', ylabel='count'>"
      ]
     },
     "execution_count": 43,
     "metadata": {},
     "output_type": "execute_result"
    },
    {
     "data": {
      "image/png": "[encoded data removed]",
      "text/plain": [
       "<Figure size 720x432 with 1 Axes>"
      ]
     },
     "metadata": {},
     "output_type": "display_data"
    }
   ],
   "source": [
    "sns.countplot(x = 'Age Group', data = dfcovid, lw=4, ec='black', hatch='/',\n",
    "              hue = 'Underlying Health Condition?', palette = 'muted')"
   ]
  },
  {
   "cell_type": "code",
   "execution_count": 44,
   "id": "11e4ae3a-4bc8-4e9c-b2f7-4e69d48be8f3",
   "metadata": {},
   "outputs": [
    {
     "data": {
      "text/plain": [
       "<AxesSubplot:xlabel='Age Group', ylabel='count'>"
      ]
     },
     "execution_count": 44,
     "metadata": {},
     "output_type": "execute_result"
    },
    {
     "data": {
      "image/png": "[encoded data removed]",
      "text/plain": [
       "<Figure size 720x432 with 1 Axes>"
      ]
     },
     "metadata": {},
     "output_type": "display_data"
    }
   ],
   "source": [
    "sns.countplot(x = 'Age Group', data = dfcovid, lw=4, ec='black', hatch='/',\n",
    "              hue = 'Vaccination Status', palette = 'muted')"
   ]
  },
  {
   "cell_type": "code",
   "execution_count": 45,
   "id": "1cf49479-fee7-4999-9897-8fade5c5f6e9",
   "metadata": {},
   "outputs": [
    {
     "data": {
      "text/plain": [
       "<AxesSubplot:xlabel='Gender', ylabel='count'>"
      ]
     },
     "execution_count": 45,
     "metadata": {},
     "output_type": "execute_result"
    },
    {
     "data": {
      "image/png": "[encoded data removed]",
      "text/plain": [
       "<Figure size 720x432 with 1 Axes>"
      ]
     },
     "metadata": {},
     "output_type": "display_data"
    }
   ],
   "source": [
    "sns.countplot(x = 'Gender', data = dfcovid)"
   ]
  },
  {
   "cell_type": "code",
   "execution_count": 46,
   "id": "bf584d0b-9d56-44d1-a8e2-bb6345546400",
   "metadata": {},
   "outputs": [
    {
     "data": {
      "text/plain": [
       "<AxesSubplot:xlabel='Age', ylabel='Count'>"
      ]
     },
     "execution_count": 46,
     "metadata": {},
     "output_type": "execute_result"
    },
    {
     "data": {
      "image/png": "[encoded data removed]",
      "text/plain": [
       "<Figure size 720x432 with 1 Axes>"
      ]
     },
     "metadata": {},
     "output_type": "display_data"
    }
   ],
   "source": [
    "sns.histplot(data = dfcovid, x = 'Age',\n",
    "             hue = 'Underlying Health Condition?', palette = 'Set1')"
   ]
  },
  {
   "cell_type": "code",
   "execution_count": 47,
   "id": "3de7e73f-ddaf-46d2-a810-3f852307d229",
   "metadata": {},
   "outputs": [
    {
     "data": {
      "text/plain": [
       "<AxesSubplot:xlabel='Age', ylabel='Count'>"
      ]
     },
     "execution_count": 47,
     "metadata": {},
     "output_type": "execute_result"
    },
    {
     "data": {
      "image/png": "[encoded data removed]",
      "text/plain": [
       "<Figure size 720x432 with 1 Axes>"
      ]
     },
     "metadata": {},
     "output_type": "display_data"
    }
   ],
   "source": [
    "sns.histplot(data = dfcovid, x = 'Age',\n",
    "             hue = 'Vaccination Status', palette = 'Set1')"
   ]
  },
  {
   "cell_type": "markdown",
   "id": "55bab615-2fee-493c-a3ce-b4efa03e04ea",
   "metadata": {},
   "source": [
    "## References"
   ]
  },
  {
   "cell_type": "markdown",
   "id": "def3abc3-1434-41c6-b520-30eb7cebd8f1",
   "metadata": {},
   "source": [
    "[01][DelftStack - Loop Through Multiple Lists in Python](https://www.delftstack.com/howto/python/how-to-loop-through-multiple-lists-in-python/)<br>\n",
    "[02][COVID-19 Vaccination Uptake in IrelandWeekly Report ](chrome-extension://efaidnbmnnnibpcajpcglclefindmkaj/viewer.html?pdfurl=https%3A%2F%2Fwww.hpsc.ie%2Fa-z%2Frespiratory%2Fcoronavirus%2Fnovelcoronavirus%2Fvaccination%2Fcovid-19vaccinationuptakereports%2FCOVID-19%2520Vaccination%2520Uptake%2520in%2520Ireland%2520Weekly%2520Report%2520Week%252046%25202021.pdf&clen=484980&chunk=true)<br>\n",
    "[03][geohive - ICU, Acute Hospital & Testing Data](https://covid19ireland-geohive.hub.arcgis.com/pages/hospitals-icu--testing)<br>\n",
    "[04][CSO - COVID-19 Deaths and Cases, Series 36](https://www.cso.ie/en/releasesandpublications/br/b-cdc/covid-19deathsandcasesseries36/)<br>\n",
    "[05][CSO - COVID-19 Vaccination Statistics Series 1](https://www.cso.ie/en/releasesandpublications/br/b-cvac/covid-19vaccinationstatisticsseries1/)<br>\n",
    "[06][skillsugar.com - How to Calculate a Percentage in Python](https://www.skillsugar.com/how-to-calculate-a-percentage-in-python)<br>\n",
    "[07][numpy.org - Random Generator](https://numpy.org/doc/stable/reference/random/generator.html)<br>\n",
    "[08][numpy.org - Choice](https://numpy.org/doc/stable/reference/random/generated/numpy.random.Generator.choice.html#numpy.random.Generator.choice)<br>\n",
    "[09][pandas.DataFrame](https://pandas.pydata.org/pandas-docs/stable/reference/api/pandas.DataFrame.html)<br>\n",
    "[10][pandas.DataFrame.apply](https://pandas.pydata.org/pandas-docs/stable/reference/api/pandas.DataFrame.apply.html)<br>\n",
    "[11][numpy.org - Integers](https://numpy.org/doc/stable/reference/random/generated/numpy.random.Generator.integers.html#numpy.random.Generator.integers)<br>\n",
    "[12][stackoverflow - Adding a column in pandas df using a function](https://stackoverflow.com/questions/40045632/adding-a-column-in-pandas-df-using-a-function)<br>\n",
    "[13][statology.org - How to Convert Pandas DataFrame Columns to int](https://www.statology.org/pandas-convert-column-to-int/)<br>\n",
    "[14][numpy.org - Binomial](https://numpy.org/doc/stable/reference/random/generated/numpy.random.Generator.binomial.html#numpy.random.Generator.binomial)<br>\n",
    "[15][re-thought.com - How to add new columns to Pandas dataframe?](https://re-thought.com/how-to-add-new-columns-in-a-dataframe-in-pandas/)<br>\n",
    "[16][Wikipedia - Covid-19](https://en.wikipedia.org/wiki/COVID-19)<br>\n",
    "[17][Wikipedia - Severe acute respiratory syndrome coronavirus 2](https://en.wikipedia.org/wiki/Severe_acute_respiratory_syndrome_coronavirus_2)<br>\n",
    "[18][HSE - COVID-19 Vaccination Uptake in Ireland Weekly Report ](chrome-extension://efaidnbmnnnibpcajpcglclefindmkaj/viewer.html?pdfurl=https%3A%2F%2Fwww.hpsc.ie%2Fa-z%2Frespiratory%2Fcoronavirus%2Fnovelcoronavirus%2Fvaccination%2Fcovid-19vaccinationuptakereports%2FCOVID-19%2520Vaccination%2520Uptake%2520in%2520Ireland%2520Weekly%2520Report%2520Week%252046%25202021.pdf&clen=484980&chunk=true)<br>\n",
    "[19][HSE - COVID-19 14-day epidemiology reports - December 2021](https://www.hpsc.ie/a-z/respiratory/coronavirus/novelcoronavirus/surveillance/covid-1914-dayepidemiologyreports/)<br>\n",
    "[20][HSE - Epidemiology  of COVID-19 in  Ireland  -  14  day  report](chrome-extension://efaidnbmnnnibpcajpcglclefindmkaj/viewer.html?pdfurl=https%3A%2F%2Fwww.hpsc.ie%2Fa-z%2Frespiratory%2Fcoronavirus%2Fnovelcoronavirus%2Fsurveillance%2Fcovid-1914-dayepidemiologyreports%2FCIDR%252014%2520day%2520report%252020211208_Website.pdf&clen=845382&chunk=true)<br>\n",
    "[][]()<br>\n",
    "[][]()<br>\n",
    "[][]()<br>\n"
   ]
  },
  {
   "cell_type": "markdown",
   "id": "40cd000d-7313-4ad7-8920-513aad813547",
   "metadata": {},
   "source": [
    "## Links to come back to\n",
    "https://www.hpsc.ie/a-z/respiratory/coronavirus/novelcoronavirus/surveillance/covid-1914-dayepidemiologyreports/ <br>\n",
    "chrome-extension://efaidnbmnnnibpcajpcglclefindmkaj/viewer.html?pdfurl=https%3A%2F%2Fwww.hpsc.ie%2Fa-z%2Frespiratory%2Fcoronavirus%2Fnovelcoronavirus%2Fsurveillance%2Fcovid-1914-dayepidemiologyreports%2FCIDR%252014%2520day%2520report%252020211208_Website.pdf&clen=845382&chunk=true <br>\n",
    "chrome-extension://efaidnbmnnnibpcajpcglclefindmkaj/viewer.html?pdfurl=https%3A%2F%2Fwww.hpsc.ie%2Fa-z%2Frespiratory%2Fcoronavirus%2Fnovelcoronavirus%2Fsurveillance%2Fcovid-19intensivecareadmissions%2FCOVID-19_ICU_Weekly_Report_30.11.2021_website.pdf&clen=377610&chunk=true <br>\n",
    "https://www.cso.ie/en/releasesandpublications/br/b-cdc/covid-19deathsandcasesseries36/ <br>\n",
    "https://www.hpsc.ie/a-z/respiratory/coronavirus/novelcoronavirus/surveillance/underlyingconditionsreports/ <br>\n",
    "chrome-extension://efaidnbmnnnibpcajpcglclefindmkaj/viewer.html?pdfurl=https%3A%2F%2Fwww.hpsc.ie%2Fa-z%2Frespiratory%2Fcoronavirus%2Fnovelcoronavirus%2Fsurveillance%2Funderlyingconditionsreports%2FUnderlying%2520conditions%2520summary_1.0v%252014122020.pdf&clen=188877&chunk=true <br>\n",
    "<br>\n",
    "<br>\n"
   ]
  },
  {
   "cell_type": "markdown",
   "id": "9c2734d8-ac05-488f-87c2-5386334ff077",
   "metadata": {},
   "source": [
    "## END"
   ]
  }
 ],
 "metadata": {
  "kernelspec": {
   "display_name": "Python 3 (ipykernel)",
   "language": "python",
   "name": "python3"
  },
  "language_info": {
   "codemirror_mode": {
    "name": "ipython",
    "version": 3
   },
   "file_extension": ".py",
   "mimetype": "text/x-python",
   "name": "python",
   "nbconvert_exporter": "python",
   "pygments_lexer": "ipython3",
   "version": "3.9.4"
  }
 },
 "nbformat": 4,
 "nbformat_minor": 5
}
